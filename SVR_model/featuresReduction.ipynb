{
 "metadata": {
  "language_info": {
   "codemirror_mode": {
    "name": "ipython",
    "version": 3
   },
   "file_extension": ".py",
   "mimetype": "text/x-python",
   "name": "python",
   "nbconvert_exporter": "python",
   "pygments_lexer": "ipython3",
   "version": "3.8.3-final"
  },
  "orig_nbformat": 2,
  "kernelspec": {
   "name": "python3",
   "display_name": "Python 3",
   "language": "python"
  }
 },
 "nbformat": 4,
 "nbformat_minor": 2,
 "cells": [
  {
   "source": [
    "## Collect dataset"
   ],
   "cell_type": "markdown",
   "metadata": {}
  },
  {
   "cell_type": "code",
   "execution_count": 5,
   "metadata": {},
   "outputs": [],
   "source": [
    "import pandas as pd\n",
    "import numpy as np\n",
    "import seaborn as sns\n",
    "import matplotlib as plt\n",
    "file = r'dataset\\features\\EURUSD.csv'\n",
    "df = pd.read_csv(file)\n",
    "df.set_index('date', inplace=True, drop=True)"
   ]
  },
  {
   "source": [
    "## Features and Targets"
   ],
   "cell_type": "markdown",
   "metadata": {}
  },
  {
   "cell_type": "code",
   "execution_count": 6,
   "metadata": {},
   "outputs": [
    {
     "output_type": "execute_result",
     "data": {
      "text/plain": [
       "Index(['open', 'high', 'low', 'close', 'volume', 'isFriday', 'isMonday',\n",
       "       'MOM_6', 'MOM_12', 'MOM_18', 'MOM_24', 'MOM_30', 'MOM_36', 'K_6', 'D_6',\n",
       "       'K_12', 'D_12', 'K_18', 'D_18', 'K_24', 'D_24', 'K_30', 'D_30', 'K_36',\n",
       "       'D_36', 'MACD_2', 'MACDsignal_2', 'MACDhist_6', 'MACD_5',\n",
       "       'MACDsignal_4', 'MACDhist_12', 'MACD_8', 'MACDsignal_6', 'MACDhist_18',\n",
       "       'MACD_11', 'MACDsignal_8', 'MACDhist_24', 'MACD_14', 'MACDsignal_10',\n",
       "       'MACDhist_30', 'MACD_17', 'MACDsignal_12', 'MACDhist_36', 'bb_bbm_6',\n",
       "       'bb_bbh_6', 'bb_bbl_6', 'bb_bbm_12', 'bb_bbh_12', 'bb_bbl_12',\n",
       "       'bb_bbm_18', 'bb_bbh_18', 'bb_bbl_18', 'bb_bbm_24', 'bb_bbh_24',\n",
       "       'bb_bbl_24', 'bb_bbm_30', 'bb_bbh_30', 'bb_bbl_30', 'bb_bbm_36',\n",
       "       'bb_bbh_36', 'bb_bbl_36', 'RSI_6', 'RSI_12', 'RSI_18', 'RSI_24',\n",
       "       'RSI_30', 'RSI_36'],\n",
       "      dtype='object')"
      ]
     },
     "metadata": {},
     "execution_count": 6
    }
   ],
   "source": [
    "features = df.copy()\n",
    "features = features.drop(['open_24', 'close_24'], axis=1)\n",
    "# features = df[['open', 'high', 'low', 'close','bb_bbm_6',\n",
    "#        'bb_bbh_6', 'bb_bbl_6', 'bb_bbm_12', 'bb_bbh_12', 'bb_bbl_12',\n",
    "#        'bb_bbm_18', 'bb_bbh_18', 'bb_bbl_18', 'bb_bbm_24', 'bb_bbh_24',\n",
    "#        'bb_bbl_24', 'bb_bbm_30', 'bb_bbh_30', 'bb_bbl_30', 'bb_bbm_36',\n",
    "#        'bb_bbh_36', 'bb_bbl_36']].copy()\n",
    "targets = df[['open_24', 'close_24']].copy()*10000\n",
    "features.columns"
   ]
  },
  {
   "cell_type": "code",
   "execution_count": 7,
   "metadata": {},
   "outputs": [],
   "source": [
    "cols = ['open', 'high', 'low', 'close', 'volume', 'isFriday', 'isMonday',\n",
    "       'MOM_6', 'MOM_12', 'MOM_18', 'MOM_24', 'MOM_30', 'MOM_36', 'K_6', 'D_6',\n",
    "       'K_12', 'D_12', 'K_18', 'D_18', 'K_24', 'D_24', 'K_30', 'D_30', 'K_36',\n",
    "       'D_36', 'MACD_2', 'MACDsignal_2', 'MACDhist_6', 'MACD_5',\n",
    "       'MACDsignal_4', 'MACDhist_12', 'MACD_8', 'MACDsignal_6', 'MACDhist_18',\n",
    "       'MACD_11', 'MACDsignal_8', 'MACDhist_24', 'MACD_14', 'MACDsignal_10',\n",
    "       'MACDhist_30', 'MACD_17', 'MACDsignal_12', 'MACDhist_36', 'bb_bbm_6',\n",
    "       'bb_bbh_6', 'bb_bbl_6', 'bb_bbm_12', 'bb_bbh_12', 'bb_bbl_12',\n",
    "       'bb_bbm_18', 'bb_bbh_18', 'bb_bbl_18', 'bb_bbm_24', 'bb_bbh_24',\n",
    "       'bb_bbl_24', 'bb_bbm_30', 'bb_bbh_30', 'bb_bbl_30', 'bb_bbm_36',\n",
    "       'bb_bbh_36', 'bb_bbl_36', 'RSI_6', 'RSI_12', 'RSI_18', 'RSI_24',\n",
    "       'RSI_30', 'RSI_36']\n",
    "# dcorr = features[cols].corr()\n",
    "# mask = np.zeros_like(dcorr)\n",
    "# mask[np.triu_indices_from(mask)] = True\n",
    "\n",
    "# fig, ax = plt.pyplot.subplots(figsize = (7,5))\n",
    "# sns.heatmap(dcorr,cmap=sns.diverging_palette(10,145,n=100),\n",
    "#     vmin=1,vmax=1,center=0,linewidths=1,annot=True,mask=mask,ax=ax)"
   ]
  },
  {
   "source": [
    "## Scaler Data"
   ],
   "cell_type": "markdown",
   "metadata": {}
  },
  {
   "source": [
    "import sklearn\n",
    "from sklearn.preprocessing import StandardScaler\n",
    "from sklearn.decomposition import PCA\n",
    "sc_X = StandardScaler()\n",
    "x = sc_X.fit_transform(features.values)\n"
   ],
   "cell_type": "code",
   "metadata": {},
   "execution_count": 8,
   "outputs": []
  },
  {
   "cell_type": "code",
   "execution_count": 17,
   "metadata": {},
   "outputs": [
    {
     "output_type": "execute_result",
     "data": {
      "text/plain": [
       "array([[-4.48954804e-02, -4.55023658e-02, -4.54308029e-02, ...,\n",
       "        -1.76067191e-01, -1.70961816e-01, -1.65553209e-01],\n",
       "       [ 2.07879295e-01,  2.07683956e-01,  2.07695892e-01, ...,\n",
       "        -2.51593131e-02, -2.07867431e-02, -1.67523627e-02],\n",
       "       [-1.22230431e-02, -1.35636767e-02, -1.38147022e-02, ...,\n",
       "         5.98353246e-02,  8.36592341e-02,  9.88834115e-02],\n",
       "       ...,\n",
       "       [-0.00000000e+00,  3.49681416e-15, -1.37653487e-14, ...,\n",
       "        -3.35608907e-15,  1.01047201e-14, -8.83232053e-15],\n",
       "       [ 0.00000000e+00, -3.31969697e-15,  3.04783453e-15, ...,\n",
       "        -1.01636428e-15, -5.20820463e-15,  3.03656161e-15],\n",
       "       [-0.00000000e+00, -5.51848927e-15,  6.97043603e-15, ...,\n",
       "         1.27239132e-14, -3.13287286e-16, -5.63767292e-15]])"
      ]
     },
     "metadata": {},
     "execution_count": 17
    }
   ],
   "source": [
    "pca = PCA(n_components=x.shape[1])\n",
    "pca.fit_transform(x)\n",
    "pca.components_ #Eigenvectors"
   ]
  },
  {
   "cell_type": "code",
   "execution_count": null,
   "metadata": {},
   "outputs": [],
   "source": []
  }
 ]
}