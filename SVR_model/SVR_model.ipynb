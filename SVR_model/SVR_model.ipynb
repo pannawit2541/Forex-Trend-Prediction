{
 "cells": [
  {
   "cell_type": "code",
   "execution_count": 1,
   "metadata": {},
   "outputs": [],
   "source": [
    "from sklearn.metrics import r2_score, mean_squared_error\n",
    "import joblib  # save model\n",
    "from sklearn.metrics import mean_absolute_error\n",
    "from sklearn.model_selection import train_test_split\n",
    "from numpy import absolute\n",
    "from numpy import std\n",
    "from numpy import mean\n",
    "from sklearn.preprocessing import MinMaxScaler\n",
    "from sklearn.model_selection import KFold\n",
    "from sklearn.multioutput import MultiOutputRegressor\n",
    "from sklearn.svm import SVR\n",
    "from sklearn.svm import LinearSVR\n",
    "from sklearn.datasets import make_regression\n",
    "import matplotlib.pyplot as plt\n",
    "from sklearn.preprocessing import StandardScaler\n",
    "import pandas as pd\n",
    "import numpy as np\n",
    "from sklearn.model_selection import GridSearchCV"
   ]
  },
  {
   "cell_type": "code",
   "execution_count": 2,
   "metadata": {
    "tags": []
   },
   "outputs": [],
   "source": [
    "\n",
    "file = r'dataset\\features\\EURUSD.csv'\n",
    "df = pd.read_csv(file)\n",
    "df.set_index('date', inplace=True, drop=True)\n",
    "\n",
    "################################################\n",
    "features = df[['open',\n",
    " 'high',\n",
    " 'low',\n",
    " 'close',\n",
    " 'WPC',\n",
    " 'HA_open',\n",
    " 'HA_high',\n",
    " 'HA_low',\n",
    " 'HA_close',\n",
    " 'EMA_4',\n",
    " 'EMA_8',\n",
    " 'EMA_16',\n",
    " 'EMA_32',\n",
    " 'bb_bbm_4',\n",
    " 'bb_bbh_4',\n",
    " 'bb_bbl_4',\n",
    " 'bb_bbm_8',\n",
    " 'bb_bbh_8',\n",
    " 'bb_bbl_8',\n",
    " 'bb_bbm_16',\n",
    " 'bb_bbh_16',\n",
    " 'bb_bbl_16',\n",
    " 'bb_bbm_32',\n",
    " 'bb_bbh_32',\n",
    " 'bb_bbl_32']].copy()\n",
    "targets = df[['open_24', 'close_24']].copy()\n",
    "\n",
    "################################################\n",
    "targets = targets*10000\n",
    "################################################"
   ]
  },
  {
   "cell_type": "code",
   "execution_count": 3,
   "metadata": {},
   "outputs": [
    {
     "output_type": "stream",
     "name": "stdout",
     "text": [
      "train shape : 1405 days || test shape : 74 days\n"
     ]
    }
   ],
   "source": [
    "sc_X = StandardScaler()\n",
    "sc_y = StandardScaler()\n",
    "x = sc_X.fit_transform(features.values)\n",
    "y = sc_y.fit_transform(targets.values)\n",
    "\n",
    "input_train, input_test, output_train, output_test = train_test_split(\n",
    "    x, y, test_size=0.05)\n",
    "print(\"train shape : {:.0f}\".format(\n",
    "    input_train.shape[0]/24), \"days || test shape : {:.0f}\".format(input_test.shape[0]/24), \"days\")"
   ]
  },
  {
   "cell_type": "code",
   "execution_count": 4,
   "metadata": {},
   "outputs": [
    {
     "output_type": "execute_result",
     "data": {
      "text/plain": [
       "{'estimator__kernel': ['rbf'],\n",
       " 'estimator__C': [25],\n",
       " 'estimator__degree': [4],\n",
       " 'estimator__coef0': [0.01],\n",
       " 'estimator__gamma': [0.1],\n",
       " 'estimator__epsilon': [0.0001],\n",
       " 'estimator__verbose': [2]}"
      ]
     },
     "metadata": {},
     "execution_count": 4
    }
   ],
   "source": [
    "param = {\n",
    "    'estimator__kernel' : ('poly','rbf'),\n",
    "    'estimator__C' : np.arange(1,52,10),\n",
    "    'estimator__degree' : np.arange(3,8,1),\n",
    "    'estimator__coef0' :  [0.01,0.1,1,10],\n",
    "    'estimator__gamma' : ('auto','scale',0.01,0.1,1,10),\n",
    "    'estimator__epsilon' : (0.0001,0.001,0.01,0.1,1),\n",
    "    'estimator__verbose' : [2]\n",
    "}\n",
    "param = {\n",
    "    'estimator__kernel' : ['rbf'],\n",
    "    'estimator__C' : [25],\n",
    "    'estimator__degree' : [4],\n",
    "    'estimator__coef0' :  [0.01],\n",
    "    'estimator__gamma' : [0.1],\n",
    "    'estimator__epsilon' : [0.0001],\n",
    "    'estimator__verbose' : [2]\n",
    "}\n",
    "param"
   ]
  },
  {
   "cell_type": "code",
   "execution_count": 5,
   "metadata": {},
   "outputs": [
    {
     "output_type": "execute_result",
     "data": {
      "text/plain": [
       "dict_keys(['estimator__C', 'estimator__cache_size', 'estimator__coef0', 'estimator__degree', 'estimator__epsilon', 'estimator__gamma', 'estimator__kernel', 'estimator__max_iter', 'estimator__shrinking', 'estimator__tol', 'estimator__verbose', 'estimator', 'n_jobs'])"
      ]
     },
     "metadata": {},
     "execution_count": 5
    }
   ],
   "source": [
    "model = SVR()\n",
    "Multi_SVR = MultiOutputRegressor(model)\n",
    "Grids = GridSearchCV(Multi_SVR,param,cv=None)\n",
    "Multi_SVR.get_params().keys()"
   ]
  },
  {
   "cell_type": "code",
   "execution_count": 6,
   "metadata": {},
   "outputs": [
    {
     "output_type": "stream",
     "name": "stdout",
     "text": [
      "[LibSVM][LibSVM][LibSVM][LibSVM][LibSVM][LibSVM][LibSVM][LibSVM][LibSVM][LibSVM][LibSVM][LibSVM]"
     ]
    },
    {
     "output_type": "execute_result",
     "data": {
      "text/plain": [
       "GridSearchCV(estimator=MultiOutputRegressor(estimator=SVR()),\n",
       "             param_grid={'estimator__C': [25], 'estimator__coef0': [0.01],\n",
       "                         'estimator__degree': [4],\n",
       "                         'estimator__epsilon': [0.0001],\n",
       "                         'estimator__gamma': [0.1],\n",
       "                         'estimator__kernel': ['rbf'],\n",
       "                         'estimator__verbose': [2]})"
      ]
     },
     "metadata": {},
     "execution_count": 6
    }
   ],
   "source": [
    "Grids.fit(input_train,output_train)"
   ]
  },
  {
   "cell_type": "code",
   "execution_count": 7,
   "metadata": {},
   "outputs": [
    {
     "output_type": "stream",
     "name": "stdout",
     "text": [
      "Best score :  0.9840735133642247\nBest param :  {'estimator__C': 25, 'estimator__coef0': 0.01, 'estimator__degree': 4, 'estimator__epsilon': 0.0001, 'estimator__gamma': 0.1, 'estimator__kernel': 'rbf', 'estimator__verbose': 2}\n"
     ]
    }
   ],
   "source": [
    "print(\"Best score : \",Grids.best_score_)\n",
    "print(\"Best param : \",Grids.best_params_)"
   ]
  },
  {
   "cell_type": "code",
   "execution_count": 8,
   "metadata": {},
   "outputs": [
    {
     "output_type": "execute_result",
     "data": {
      "text/plain": [
       "{'mean_fit_time': array([117.83177805]),\n",
       " 'std_fit_time': array([2.48554504]),\n",
       " 'mean_score_time': array([10.69899435]),\n",
       " 'std_score_time': array([0.11583369]),\n",
       " 'param_estimator__C': masked_array(data=[25],\n",
       "              mask=[False],\n",
       "        fill_value='?',\n",
       "             dtype=object),\n",
       " 'param_estimator__coef0': masked_array(data=[0.01],\n",
       "              mask=[False],\n",
       "        fill_value='?',\n",
       "             dtype=object),\n",
       " 'param_estimator__degree': masked_array(data=[4],\n",
       "              mask=[False],\n",
       "        fill_value='?',\n",
       "             dtype=object),\n",
       " 'param_estimator__epsilon': masked_array(data=[0.0001],\n",
       "              mask=[False],\n",
       "        fill_value='?',\n",
       "             dtype=object),\n",
       " 'param_estimator__gamma': masked_array(data=[0.1],\n",
       "              mask=[False],\n",
       "        fill_value='?',\n",
       "             dtype=object),\n",
       " 'param_estimator__kernel': masked_array(data=['rbf'],\n",
       "              mask=[False],\n",
       "        fill_value='?',\n",
       "             dtype=object),\n",
       " 'param_estimator__verbose': masked_array(data=[2],\n",
       "              mask=[False],\n",
       "        fill_value='?',\n",
       "             dtype=object),\n",
       " 'params': [{'estimator__C': 25,\n",
       "   'estimator__coef0': 0.01,\n",
       "   'estimator__degree': 4,\n",
       "   'estimator__epsilon': 0.0001,\n",
       "   'estimator__gamma': 0.1,\n",
       "   'estimator__kernel': 'rbf',\n",
       "   'estimator__verbose': 2}],\n",
       " 'split0_test_score': array([0.98393305]),\n",
       " 'split1_test_score': array([0.984877]),\n",
       " 'split2_test_score': array([0.98425298]),\n",
       " 'split3_test_score': array([0.98332617]),\n",
       " 'split4_test_score': array([0.98397838]),\n",
       " 'mean_test_score': array([0.98407351]),\n",
       " 'std_test_score': array([0.00050301]),\n",
       " 'rank_test_score': array([1])}"
      ]
     },
     "metadata": {},
     "execution_count": 8
    }
   ],
   "source": [
    "Grids.cv_results_"
   ]
  },
  {
   "cell_type": "code",
   "execution_count": null,
   "metadata": {},
   "outputs": [],
   "source": []
  }
 ],
 "metadata": {
  "kernelspec": {
   "name": "python3",
   "display_name": "Python 3.7.0 64-bit",
   "metadata": {
    "interpreter": {
     "hash": "dddbc276755de026ef59667a60cae8244bc070c6d03129960631c9bd95dbf04d"
    }
   }
  }
 },
 "nbformat": 4,
 "nbformat_minor": 4
}