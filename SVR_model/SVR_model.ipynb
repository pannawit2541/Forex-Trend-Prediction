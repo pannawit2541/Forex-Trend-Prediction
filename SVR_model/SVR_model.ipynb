{
 "cells": [
  {
   "cell_type": "code",
   "execution_count": 5,
   "metadata": {},
   "outputs": [],
   "source": [
    "from sklearn.metrics import r2_score, mean_squared_error\n",
    "import joblib  # save model\n",
    "from sklearn.metrics import mean_absolute_error\n",
    "from sklearn.model_selection import train_test_split\n",
    "from numpy import absolute\n",
    "from numpy import std\n",
    "from numpy import mean\n",
    "from sklearn.preprocessing import MinMaxScaler\n",
    "from sklearn.model_selection import KFold\n",
    "from sklearn.multioutput import MultiOutputRegressor\n",
    "from sklearn.svm import SVR\n",
    "from sklearn.svm import LinearSVR\n",
    "from sklearn.datasets import make_regression\n",
    "import matplotlib.pyplot as plt\n",
    "from sklearn.preprocessing import StandardScaler\n",
    "import pandas as pd\n",
    "import numpy as np"
   ]
  },
  {
   "cell_type": "code",
   "execution_count": 6,
   "metadata": {
    "tags": []
   },
   "outputs": [],
   "source": [
    "\n",
    "file = r'dataset\\features\\EURUSD_2.csv'\n",
    "df = pd.read_csv(file)\n",
    "df.set_index('date', inplace=True, drop=True)\n",
    "\n",
    "################################################\n",
    "'''\n",
    "    - 4 years data\n",
    "    - 4 y * 356 d * 24 hr = 34,176\n",
    "\n",
    "'''\n",
    "\n",
    "features = df.copy()\n",
    "features = features.drop(['open_24', 'close_24'], axis=1)\n",
    "targets = df[['open_24', 'close_24']].copy()\n",
    "\n",
    "################################################\n",
    "'''\n",
    "    - scale output with 1 pip\n",
    "'''\n",
    "targets = targets*10000\n",
    "################################################"
   ]
  },
  {
   "cell_type": "code",
   "execution_count": 7,
   "metadata": {},
   "outputs": [
    {
     "output_type": "stream",
     "name": "stdout",
     "text": [
      "train shape : 1405 days || test shape : 74 days\n"
     ]
    }
   ],
   "source": [
    "\n",
    "sc_X = StandardScaler()\n",
    "sc_y = StandardScaler()\n",
    "x = sc_X.fit_transform(features.values)\n",
    "y = sc_y.fit_transform(targets.values)\n",
    "\n",
    "input_train, input_test, output_train, output_test = train_test_split(\n",
    "    x, y, test_size=0.05)\n",
    "print(\"train shape : {:.0f}\".format(\n",
    "    input_train.shape[0]/24), \"days || test shape : {:.0f}\".format(input_test.shape[0]/24), \"days\")\n",
    "\n",
    "\n",
    "filename = 'model/EURUSD_fix2.joblib'\n",
    "\n",
    "model = SVR(kernel='rbf', gamma='scale', C=25,\n",
    "            epsilon=0.0001, verbose=2)\n"
   ]
  },
  {
   "cell_type": "code",
   "execution_count": 8,
   "metadata": {},
   "outputs": [
    {
     "output_type": "stream",
     "name": "stdout",
     "text": [
      "K-folds at :  1\n[LibSVM]"
     ]
    }
   ],
   "source": [
    "\n",
    "best_svr = MultiOutputRegressor(model)\n",
    "cv = KFold(n_splits=10, shuffle=False)\n",
    "scores = []\n",
    "i = 1\n",
    "for train_index, test_index in cv.split(input_train):\n",
    "    print(\"K-folds at : \", i)\n",
    "\n",
    "    X_train, X_test, y_train, y_test = input_train[train_index], input_train[\n",
    "        test_index], output_train[train_index], output_train[test_index]\n",
    "    best_svr.fit(X_train, y_train)\n",
    "\n",
    "    '''\n",
    "                    - Cross validate \n",
    "            '''\n",
    "    scores.append(best_svr.score(X_test, y_test))\n",
    "    print(\"scores : \", best_svr.score(X_test, y_test))\n",
    "\n",
    "    '''\n",
    "                    - MAE\n",
    "            '''\n",
    "    yhat = best_svr.predict(X_test)\n",
    "    yhat = sc_y.inverse_transform(yhat)\n",
    "    y_test = sc_y.inverse_transform(y_test)\n",
    "    print(\"MAE : \", mean_absolute_error(\n",
    "        y_test, yhat, multioutput='raw_values'))\n",
    "    joblib.dump(best_svr, filename)\n",
    "    i += 1\n"
   ]
  },
  {
   "cell_type": "code",
   "execution_count": null,
   "metadata": {},
   "outputs": [],
   "source": [
    "\n",
    "yhat = best_svr.predict(input_test)\n",
    "yhat = sc_y.inverse_transform(yhat)\n",
    "y_test = sc_y.inverse_transform(output_test)\n",
    "mse = mean_squared_error(y_test, yhat)\n",
    "sum_err = []\n",
    "\n",
    "for i in range(len(y_test)):\n",
    "    err = abs(y_test[i]-yhat[i])\n",
    "    sum_err.append(err)\n",
    "    #print(i,\"-> Pre \",yhat[i],\" vs Acc\",y_test[i],\" err = \",err)\n",
    "print(\"Crossvalidation score :\", np.mean(scores))\n",
    "print(\"Abs_err = \", r2_score(yhat, y_test))\n",
    "print(\"mse = \", mse/100\n",
    ")\n",
    "print(\"sqrt(mse) = \", np.sqrt(mse))\n",
    "print(\"Pips err = \", mean(sum_err), \"\\n\")\n"
   ]
  }
 ],
 "metadata": {
  "kernelspec": {
   "name": "python3",
   "display_name": "Python 3.7.0 64-bit",
   "metadata": {
    "interpreter": {
     "hash": "dddbc276755de026ef59667a60cae8244bc070c6d03129960631c9bd95dbf04d"
    }
   }
  }
 },
 "nbformat": 4,
 "nbformat_minor": 4
}