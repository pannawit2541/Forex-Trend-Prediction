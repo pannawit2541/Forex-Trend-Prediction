{
 "metadata": {
  "language_info": {
   "codemirror_mode": {
    "name": "ipython",
    "version": 3
   },
   "file_extension": ".py",
   "mimetype": "text/x-python",
   "name": "python",
   "nbconvert_exporter": "python",
   "pygments_lexer": "ipython3",
   "version": "3.7.0-final"
  },
  "orig_nbformat": 2,
  "kernelspec": {
   "name": "python3",
   "display_name": "Python 3",
   "language": "python"
  }
 },
 "nbformat": 4,
 "nbformat_minor": 2,
 "cells": [
  {
   "cell_type": "code",
   "execution_count": 114,
   "metadata": {},
   "outputs": [],
   "source": [
    "import joblib\n",
    "import pandas as pd\n",
    "import numpy as np\n",
    "from sklearn.preprocessing import StandardScaler\n",
    "from sklearn.model_selection import train_test_split\n",
    "from sklearn.metrics import mean_absolute_error\n",
    "\n",
    "import requests\n",
    "import json\n",
    "\n",
    "response = requests.get(\"https://fcsapi.com/api-v3/forex/history?symbol=EUR/USD&period=1h&access_key=62fshe1xJ6ejIAFmICbhv&level=3\")\n",
    "#response = requests.get(\"https://marketdata.tradermade.com/api/v1/timeseries?api_key=iGv_aQZoc7huEAchcPOV&currency=GBPUSD&start_date=2020-11-21-00:00&end_date=2020-12-21-08:00&format=records&interval=hourly\")\n",
    "\n"
   ]
  },
  {
   "cell_type": "code",
   "execution_count": 133,
   "metadata": {},
   "outputs": [],
   "source": [
    "import pandas as pd\n",
    "import numpy as np\n",
    "from datetime import datetime\n",
    "\n",
    "import talib\n",
    "\n",
    "from ta.volatility import BollingerBands\n",
    "from ta.trend import MACD\n"
   ]
  },
  {
   "cell_type": "code",
   "execution_count": 134,
   "metadata": {},
   "outputs": [],
   "source": [
    "def to_dataFrame(data):\n",
    "    df = pd.DataFrame.from_dict(data,orient='index')\n",
    "    df = df.rename(\n",
    "        columns={\n",
    "            'o': 'open',\n",
    "            'h': 'high',\n",
    "            'l': 'low',\n",
    "            'c': 'close',\n",
    "            'v': 'volume',\n",
    "            'tm': 'date'\n",
    "            })\n",
    "    # df = df.drop(['t'], axis=1)\n",
    "    # df.set_index('date', inplace=True, drop=True)\n",
    "    df = df.replace(r'^\\s*$', 0, regex=True)\n",
    "    #################### Covert to numerical ####################\n",
    "    df['open'] = df['open'].astype(float)\n",
    "    df['high'] = df['high'].astype(float)\n",
    "    df['close'] = df['close'].astype(float)\n",
    "    df['low'] = df['low'].astype(float)\n",
    "    # df['volume'] = df['volume'].apply(lambda x: float(x.split()[0].replace(',', '')))\n",
    "    df['volume'] = df['volume'].astype(float)\n",
    "    return df"
   ]
  },
  {
   "source": [
    "## Preprocessing Data"
   ],
   "cell_type": "markdown",
   "metadata": {}
  },
  {
   "cell_type": "code",
   "execution_count": 135,
   "metadata": {},
   "outputs": [],
   "source": [
    "\n",
    "def preprocessing(file, s=0, create_file=False):\n",
    "\n",
    "    #################################################\n",
    "\n",
    "    # file  : name of data_set\n",
    "    # s : start sample at 's'\n",
    "\n",
    "    # return  : Heiken_Ashi OHLC candles\n",
    "\n",
    "    #################################################\n",
    "    data = file[[\"date\",\"open\",\"high\",\"low\",\"close\",\"volume\"]].copy(deep=False)\n",
    "    data.set_index('date', inplace=True, drop=True)\n",
    "    # data = data.iloc[s:, :]\n",
    "    data = pd.DataFrame(data=data, dtype=np.float64)\n",
    "\n",
    "    df = data.copy(deep=False)\n",
    "    df.drop(df.tail(24).index, inplace=True)\n",
    "\n",
    "    label = data[['open', 'close']].copy(deep=False)\n",
    "    label = label.iloc[24:, :]\n",
    "\n",
    "    label.reset_index(drop=True, inplace=True)\n",
    "    label.index = df.index\n",
    "\n",
    "    label.rename(columns={\"open\": \"open_24\",\n",
    "                          \"close\": \"close_24\"}, inplace=True)\n",
    "\n",
    "    def Heiken_Ashi(prices):\n",
    "\n",
    "        #################################################\n",
    "\n",
    "        # prices  : dataframe of prices\n",
    "        # periods : periods of which to create the candles\n",
    "\n",
    "        # return  : Heiken_Ashi OHLC candles\n",
    "\n",
    "        #################################################\n",
    "\n",
    "        HA_close = prices[['open', 'high', 'low', 'close']].sum(axis=1)/4\n",
    "\n",
    "        HA_open = HA_close.copy()\n",
    "\n",
    "        HA_open.iloc[0] = HA_close.iloc[0]\n",
    "\n",
    "        HA_high = HA_close.copy()\n",
    "\n",
    "        HA_low = HA_close.copy()\n",
    "\n",
    "        for i in range(1, len(prices)):\n",
    "\n",
    "            HA_open.iloc[i] = (HA_open.iloc[i-1] + HA_close.iloc[i-1])/2\n",
    "\n",
    "            HA_high.iloc[i] = np.array(\n",
    "                [prices.high.iloc[i], HA_open.iloc[i], HA_close.iloc[i]]).max()\n",
    "\n",
    "            HA_low.iloc[i] = np.array(\n",
    "                [prices.low.iloc[i], HA_open.iloc[i], HA_close.iloc[i]]).min()\n",
    "\n",
    "        return HA_open, HA_high, HA_low, HA_close\n",
    "\n",
    "    #------------------------------------------------------------#\n",
    "    # Momentum (MOM) :\n",
    "    #------------------------------------------------------------#\n",
    "\n",
    "    periods = [3, 4, 5, 8, 9, 10]\n",
    "    #periods = [x+20 for x in periods]\n",
    "\n",
    "    for i in range(0, len(periods)):\n",
    "        df['MOM_{i}'.format(i=periods[i])] = talib.MOM(\n",
    "            df.close.values, timeperiod=periods[i])\n",
    "    print(periods)\n",
    "    print(\"--------- Mometum Successful ---------\")\n",
    "\n",
    "    #------------------------------------------------------------#\n",
    "    # Stochastic oscillator (STOCH):\n",
    "    #------------------------------------------------------------#\n",
    "\n",
    "    periods = [3, 4, 5, 8, 9, 10]\n",
    "    #periods = [x+20 for x in periods]\n",
    "    for i in range(0, len(periods)):\n",
    "        K, D = talib.STOCH(\n",
    "            close=df['close'],\n",
    "            high=df['high'],\n",
    "            low=df['low'],\n",
    "            fastk_period=12\n",
    "        )\n",
    "        df['K_{i}'.format(i=periods[i])] = K\n",
    "        df['D_{i}'.format(i=periods[i])] = D\n",
    "\n",
    "    print(periods)\n",
    "    print(\"--------- Stochastic oscillator Successful ---------\")\n",
    "\n",
    "    #------------------------------------------------------------#\n",
    "    # Williams %R (WILLR) :\n",
    "    #------------------------------------------------------------#\n",
    "\n",
    "    periods = [6, 7, 8, 9, 10]\n",
    "    #periods = [x+20 for x in periods]\n",
    "    for i in range(len(periods)):\n",
    "        df['WILLR_{i}'.format(i=periods[i])] = talib.WILLR(\n",
    "            high=df['high'],\n",
    "            low=df['low'],\n",
    "            close=df['close'],\n",
    "            timeperiod=periods[i]\n",
    "        )\n",
    "    print(periods)\n",
    "    print(\"--------- Williams %R Successful ---------\")\n",
    "\n",
    "    #------------------------------------------------------------#\n",
    "    #  Rate of change (PROCP) :\n",
    "    #------------------------------------------------------------#\n",
    "\n",
    "    periods = [12, 13, 14, 15]\n",
    "    #periods = [x+20 for x in periods]\n",
    "    for i in range(len(periods)):\n",
    "        df['ROCP_{i}'.format(i=periods[i])] = talib.ROCP(\n",
    "            df['close'],\n",
    "            timeperiod=periods[i]\n",
    "        )\n",
    "\n",
    "    print(periods)\n",
    "    print(\"--------- Rate of change Successful ---------\")\n",
    "\n",
    "    #------------------------------------------------------------#\n",
    "    # Weighted Closing Price (WPC) :\n",
    "    #------------------------------------------------------------#\n",
    "\n",
    "    df['WPC'] = talib.WCLPRICE(\n",
    "        high=df['high'],\n",
    "        low=df['low'],\n",
    "        close=df['close']\n",
    "    )\n",
    "\n",
    "    print(\"--------- Weighted Closing Price Successful ---------\")\n",
    "\n",
    "    #------------------------------------------------------------#\n",
    "    # Accumulation Distribution Line (ADL) :\n",
    "    #------------------------------------------------------------#\n",
    "\n",
    "    df['ADL'] = talib.AD(\n",
    "        high=df['high'],\n",
    "        low=df['low'],\n",
    "        close=df['close'],\n",
    "        volume=df['volume']\n",
    "    )\n",
    "\n",
    "    print(\"--------- Accumulation Distribution Line Successful ---------\")\n",
    "\n",
    "    #------------------------------------------------------------#\n",
    "    # Accumulation Distribution Oscillator (ADOSC) :\n",
    "    #------------------------------------------------------------#\n",
    "\n",
    "    periods_fast = [2, 3, 4, 5]\n",
    "    #periods_fast = [x+20 for x in periods_fast]\n",
    "    periods_slow = [10, 12, 14, 16]\n",
    "    #periods_slow = [x+20 for x in periods_slow]\n",
    "    for i in range(len(periods_fast)):\n",
    "        df['ADOSC_{i},{j}'.format(i=periods_fast[i], j=periods_slow[i])] = talib.ADOSC(\n",
    "            high=df['high'],\n",
    "            low=df['low'],\n",
    "            close=df['close'],\n",
    "            volume=df['volume'],\n",
    "            fastperiod=periods_fast[i],\n",
    "            slowperiod=periods_slow[i]\n",
    "        )\n",
    "\n",
    "    print(\"--------- Accumulation Distribution Line Successful ---------\")\n",
    "\n",
    "    #------------------------------------------------------------#\n",
    "    # Moving Average Convergence/Divergence (MACD) :\n",
    "    #------------------------------------------------------------#\n",
    "\n",
    "    indicator_MACD = MACD(\n",
    "        close=df['close'],\n",
    "        n_fast=12,\n",
    "        n_slow=26,\n",
    "        n_sign=9,\n",
    "        fillna=True\n",
    "    )\n",
    "\n",
    "    df['MACD_12,26'] = indicator_MACD.macd()\n",
    "    df['MACD_his_12,26'] = indicator_MACD.macd_diff()\n",
    "    df['MACD_signal_12,26'] = indicator_MACD.macd_signal()\n",
    "\n",
    "    print(\"--------- Moving Average Convergence/Divergence Successful ---------\")\n",
    "\n",
    "    #------------------------------------------------------------#\n",
    "    # Commodity Channel Index (CCI) :\n",
    "    #------------------------------------------------------------#\n",
    "\n",
    "    df['CCI_15'] = talib.CCI(\n",
    "        high=df['high'],\n",
    "        low=df['low'],\n",
    "        close=df['close'],\n",
    "        timeperiod=15\n",
    "    )\n",
    "\n",
    "    print(\"--------- Commodity Channel Index Successful ---------\")\n",
    "\n",
    "    #------------------------------------------------------------#\n",
    "    # Bollinger Bands (BBANDS) :\n",
    "    #------------------------------------------------------------#\n",
    "\n",
    "    indicator_bb = BollingerBands(close=df[\"close\"], n=15, ndev=2)\n",
    "    df['bb_bbm_15'] = indicator_bb.bollinger_mavg()\n",
    "    df['bb_bbh_15'] = indicator_bb.bollinger_hband()\n",
    "    df['bb_bbl_15'] = indicator_bb.bollinger_lband()\n",
    "\n",
    "    print(\"--------- Bollinger Bands Successful ---------\")\n",
    "\n",
    "    #------------------------------------------------------------#\n",
    "    # Heikin Ashi :\n",
    "    #------------------------------------------------------------#\n",
    "\n",
    "    Open, High, Low, Close = Heiken_Ashi(df)\n",
    "    df['HA_open'] = Open\n",
    "    df['HA_high'] = High\n",
    "    df['HA_low'] = Low\n",
    "    df['HA_close'] = Close\n",
    "\n",
    "    print(\"--------- Heikin Ashi Successful ---------\")\n",
    "\n",
    "    #------------------------------------------------------------#\n",
    "    # Relative Strange index (RSI) :\n",
    "    #------------------------------------------------------------#\n",
    "\n",
    "    periods = [6, 8, 10, 12]\n",
    "    #periods = [x+20 for x in periods]\n",
    "    for i in range(len(periods)):\n",
    "        df['RSI_{i}'.format(i=periods[i])] = talib.RSI(\n",
    "            df['close'],\n",
    "            timeperiod=periods[i]\n",
    "        )\n",
    "\n",
    "    print(periods)\n",
    "    print(\"--------- Relative Strange index Successful ---------\")\n",
    "\n",
    "    #------------------------------------------------------------#\n",
    "    # Slope :\n",
    "    #------------------------------------------------------------#\n",
    "\n",
    "    df['Slope_6'] = talib.LINEARREG_SLOPE(df['close'], timeperiod=6)\n",
    "    df = df.fillna(method='bfill')\n",
    "\n",
    "    print(\"--------- Slope Successful ---------\")\n",
    "\n",
    "    df = df.drop(['volume'], axis=1)\n",
    "\n",
    "    # ----------- Create File .csv------------\n",
    "    if create_file == True:\n",
    "        _csv = pd.concat([df, label], axis=1)\n",
    "        _csv.to_csv(r'dataset/USDJPY_features.csv')\n",
    "\n",
    "    return df, label\n"
   ]
  },
  {
   "cell_type": "code",
   "execution_count": 136,
   "metadata": {
    "tags": []
   },
   "outputs": [
    {
     "output_type": "stream",
     "name": "stdout",
     "text": [
      "[3, 4, 5, 8, 9, 10]\n",
      "--------- Mometum Successful ---------\n",
      "[3, 4, 5, 8, 9, 10]\n",
      "--------- Stochastic oscillator Successful ---------\n",
      "[6, 7, 8, 9, 10]\n",
      "--------- Williams %R Successful ---------\n",
      "[12, 13, 14, 15]\n",
      "--------- Rate of change Successful ---------\n",
      "--------- Weighted Closing Price Successful ---------\n",
      "--------- Accumulation Distribution Line Successful ---------\n",
      "--------- Accumulation Distribution Line Successful ---------\n",
      "--------- Moving Average Convergence/Divergence Successful ---------\n",
      "--------- Commodity Channel Index Successful ---------\n",
      "--------- Bollinger Bands Successful ---------\n",
      "--------- Heikin Ashi Successful ---------\n",
      "[6, 8, 10, 12]\n",
      "--------- Relative Strange index Successful ---------\n",
      "--------- Slope Successful ---------\n"
     ]
    }
   ],
   "source": [
    "data = response.json().get('response')\n",
    "data = to_dataFrame(data)\n",
    "X,Y = preprocessing(data)\n",
    "Y = Y*10000"
   ]
  },
  {
   "cell_type": "code",
   "execution_count": 137,
   "metadata": {},
   "outputs": [],
   "source": [
    "sc_X = StandardScaler()\n",
    "sc_y = StandardScaler()\n",
    "x = sc_X.fit_transform(X.values)\n",
    "y = sc_y.fit_transform(Y.values)"
   ]
  },
  {
   "source": [
    "## Evaluate_model"
   ],
   "cell_type": "markdown",
   "metadata": {}
  },
  {
   "cell_type": "code",
   "execution_count": 138,
   "metadata": {},
   "outputs": [],
   "source": [
    "model = joblib.load('model/EURUSD_SVR_1.joblib')"
   ]
  },
  {
   "cell_type": "code",
   "execution_count": 139,
   "metadata": {},
   "outputs": [],
   "source": [
    "yhat = model.predict(x)\n",
    "yhat = sc_y.inverse_transform(yhat)"
   ]
  },
  {
   "cell_type": "code",
   "execution_count": 140,
   "metadata": {},
   "outputs": [
    {
     "output_type": "stream",
     "name": "stdout",
     "text": [
      "MAE : [36.18408319 37.27121291]\nAbs_err =  84.67223011089855\n"
     ]
    }
   ],
   "source": [
    "from sklearn.metrics import r2_score, mean_squared_error\n",
    "print(\"MAE :\", mean_absolute_error(Y.values, yhat, multioutput='raw_values'))\n",
    "print(\"Abs_err = \", r2_score(Y.values, yhat)*100)"
   ]
  },
  {
   "cell_type": "code",
   "execution_count": 141,
   "metadata": {},
   "outputs": [],
   "source": [
    "yhat = pd.DataFrame(yhat,columns=['open','close'],index=Y.index)/10000\n",
    "Y = Y/10000"
   ]
  },
  {
   "cell_type": "code",
   "execution_count": 143,
   "metadata": {},
   "outputs": [],
   "source": [
    "SMA = pd.DataFrame(columns=['real','predict'])\n",
    "SMA_hat = talib.SMA(yhat['close'],timeperiod=24)\n",
    "SMA_real = talib.SMA(Y['close_24'],timeperiod=24)\n",
    "SMA_real.index = SMA_hat.index"
   ]
  },
  {
   "cell_type": "code",
   "execution_count": 144,
   "metadata": {},
   "outputs": [],
   "source": [
    "SMA['real'] = SMA_real\n",
    "SMA['predict'] = SMA_hat"
   ]
  },
  {
   "source": [
    "start = 680\n",
    "end = start+24\n",
    "SMA.iloc[start:end].plot()"
   ],
   "cell_type": "code",
   "metadata": {},
   "execution_count": 145,
   "outputs": [
    {
     "output_type": "execute_result",
     "data": {
      "text/plain": [
       "<AxesSubplot:xlabel='date'>"
      ]
     },
     "metadata": {},
     "execution_count": 145
    },
    {
     "output_type": "display_data",
     "data": {
      "text/plain": "<Figure size 432x288 with 1 Axes>",
      "image/svg+xml": "<?xml version=\"1.0\" encoding=\"utf-8\" standalone=\"no\"?>\r\n<!DOCTYPE svg PUBLIC \"-//W3C//DTD SVG 1.1//EN\"\r\n  \"http://www.w3.org/Graphics/SVG/1.1/DTD/svg11.dtd\">\r\n<!-- Created with matplotlib (https://matplotlib.org/) -->\r\n<svg height=\"262.19625pt\" version=\"1.1\" viewBox=\"0 0 387.084943 262.19625\" width=\"387.084943pt\" xmlns=\"http://www.w3.org/2000/svg\" xmlns:xlink=\"http://www.w3.org/1999/xlink\">\r\n <metadata>\r\n  <rdf:RDF xmlns:cc=\"http://creativecommons.org/ns#\" xmlns:dc=\"http://purl.org/dc/elements/1.1/\" xmlns:rdf=\"http://www.w3.org/1999/02/22-rdf-syntax-ns#\">\r\n   <cc:Work>\r\n    <dc:type rdf:resource=\"http://purl.org/dc/dcmitype/StillImage\"/>\r\n    <dc:date>2021-01-12T08:15:49.345928</dc:date>\r\n    <dc:format>image/svg+xml</dc:format>\r\n    <dc:creator>\r\n     <cc:Agent>\r\n      <dc:title>Matplotlib v3.3.1, https://matplotlib.org/</dc:title>\r\n     </cc:Agent>\r\n    </dc:creator>\r\n   </cc:Work>\r\n  </rdf:RDF>\r\n </metadata>\r\n <defs>\r\n  <style type=\"text/css\">*{stroke-linecap:butt;stroke-linejoin:round;}</style>\r\n </defs>\r\n <g id=\"figure_1\">\r\n  <g id=\"patch_1\">\r\n   <path d=\"M 0 262.19625 \r\nL 387.084943 262.19625 \r\nL 387.084943 0 \r\nL 0 0 \r\nz\r\n\" style=\"fill:none;\"/>\r\n  </g>\r\n  <g id=\"axes_1\">\r\n   <g id=\"patch_2\">\r\n    <path d=\"M 45.084943 224.64 \r\nL 379.884943 224.64 \r\nL 379.884943 7.2 \r\nL 45.084943 7.2 \r\nz\r\n\" style=\"fill:#ffffff;\"/>\r\n   </g>\r\n   <g id=\"matplotlib.axis_1\">\r\n    <g id=\"xtick_1\">\r\n     <g id=\"line2d_1\">\r\n      <defs>\r\n       <path d=\"M 0 0 \r\nL 0 3.5 \r\n\" id=\"mb5b56f7eee\" style=\"stroke:#000000;stroke-width:0.8;\"/>\r\n      </defs>\r\n      <g>\r\n       <use style=\"stroke:#000000;stroke-width:0.8;\" x=\"60.303125\" xlink:href=\"#mb5b56f7eee\" y=\"224.64\"/>\r\n      </g>\r\n     </g>\r\n     <g id=\"text_1\">\r\n      <!-- 2020-12-29 18:00:00 -->\r\n      <g transform=\"translate(7.2 239.238438)scale(0.1 -0.1)\">\r\n       <defs>\r\n        <path d=\"M 19.1875 8.296875 \r\nL 53.609375 8.296875 \r\nL 53.609375 0 \r\nL 7.328125 0 \r\nL 7.328125 8.296875 \r\nQ 12.9375 14.109375 22.625 23.890625 \r\nQ 32.328125 33.6875 34.8125 36.53125 \r\nQ 39.546875 41.84375 41.421875 45.53125 \r\nQ 43.3125 49.21875 43.3125 52.78125 \r\nQ 43.3125 58.59375 39.234375 62.25 \r\nQ 35.15625 65.921875 28.609375 65.921875 \r\nQ 23.96875 65.921875 18.8125 64.3125 \r\nQ 13.671875 62.703125 7.8125 59.421875 \r\nL 7.8125 69.390625 \r\nQ 13.765625 71.78125 18.9375 73 \r\nQ 24.125 74.21875 28.421875 74.21875 \r\nQ 39.75 74.21875 46.484375 68.546875 \r\nQ 53.21875 62.890625 53.21875 53.421875 \r\nQ 53.21875 48.921875 51.53125 44.890625 \r\nQ 49.859375 40.875 45.40625 35.40625 \r\nQ 44.1875 33.984375 37.640625 27.21875 \r\nQ 31.109375 20.453125 19.1875 8.296875 \r\nz\r\n\" id=\"DejaVuSans-50\"/>\r\n        <path d=\"M 31.78125 66.40625 \r\nQ 24.171875 66.40625 20.328125 58.90625 \r\nQ 16.5 51.421875 16.5 36.375 \r\nQ 16.5 21.390625 20.328125 13.890625 \r\nQ 24.171875 6.390625 31.78125 6.390625 \r\nQ 39.453125 6.390625 43.28125 13.890625 \r\nQ 47.125 21.390625 47.125 36.375 \r\nQ 47.125 51.421875 43.28125 58.90625 \r\nQ 39.453125 66.40625 31.78125 66.40625 \r\nz\r\nM 31.78125 74.21875 \r\nQ 44.046875 74.21875 50.515625 64.515625 \r\nQ 56.984375 54.828125 56.984375 36.375 \r\nQ 56.984375 17.96875 50.515625 8.265625 \r\nQ 44.046875 -1.421875 31.78125 -1.421875 \r\nQ 19.53125 -1.421875 13.0625 8.265625 \r\nQ 6.59375 17.96875 6.59375 36.375 \r\nQ 6.59375 54.828125 13.0625 64.515625 \r\nQ 19.53125 74.21875 31.78125 74.21875 \r\nz\r\n\" id=\"DejaVuSans-48\"/>\r\n        <path d=\"M 4.890625 31.390625 \r\nL 31.203125 31.390625 \r\nL 31.203125 23.390625 \r\nL 4.890625 23.390625 \r\nz\r\n\" id=\"DejaVuSans-45\"/>\r\n        <path d=\"M 12.40625 8.296875 \r\nL 28.515625 8.296875 \r\nL 28.515625 63.921875 \r\nL 10.984375 60.40625 \r\nL 10.984375 69.390625 \r\nL 28.421875 72.90625 \r\nL 38.28125 72.90625 \r\nL 38.28125 8.296875 \r\nL 54.390625 8.296875 \r\nL 54.390625 0 \r\nL 12.40625 0 \r\nz\r\n\" id=\"DejaVuSans-49\"/>\r\n        <path d=\"M 10.984375 1.515625 \r\nL 10.984375 10.5 \r\nQ 14.703125 8.734375 18.5 7.8125 \r\nQ 22.3125 6.890625 25.984375 6.890625 \r\nQ 35.75 6.890625 40.890625 13.453125 \r\nQ 46.046875 20.015625 46.78125 33.40625 \r\nQ 43.953125 29.203125 39.59375 26.953125 \r\nQ 35.25 24.703125 29.984375 24.703125 \r\nQ 19.046875 24.703125 12.671875 31.3125 \r\nQ 6.296875 37.9375 6.296875 49.421875 \r\nQ 6.296875 60.640625 12.9375 67.421875 \r\nQ 19.578125 74.21875 30.609375 74.21875 \r\nQ 43.265625 74.21875 49.921875 64.515625 \r\nQ 56.59375 54.828125 56.59375 36.375 \r\nQ 56.59375 19.140625 48.40625 8.859375 \r\nQ 40.234375 -1.421875 26.421875 -1.421875 \r\nQ 22.703125 -1.421875 18.890625 -0.6875 \r\nQ 15.09375 0.046875 10.984375 1.515625 \r\nz\r\nM 30.609375 32.421875 \r\nQ 37.25 32.421875 41.125 36.953125 \r\nQ 45.015625 41.5 45.015625 49.421875 \r\nQ 45.015625 57.28125 41.125 61.84375 \r\nQ 37.25 66.40625 30.609375 66.40625 \r\nQ 23.96875 66.40625 20.09375 61.84375 \r\nQ 16.21875 57.28125 16.21875 49.421875 \r\nQ 16.21875 41.5 20.09375 36.953125 \r\nQ 23.96875 32.421875 30.609375 32.421875 \r\nz\r\n\" id=\"DejaVuSans-57\"/>\r\n        <path id=\"DejaVuSans-32\"/>\r\n        <path d=\"M 31.78125 34.625 \r\nQ 24.75 34.625 20.71875 30.859375 \r\nQ 16.703125 27.09375 16.703125 20.515625 \r\nQ 16.703125 13.921875 20.71875 10.15625 \r\nQ 24.75 6.390625 31.78125 6.390625 \r\nQ 38.8125 6.390625 42.859375 10.171875 \r\nQ 46.921875 13.96875 46.921875 20.515625 \r\nQ 46.921875 27.09375 42.890625 30.859375 \r\nQ 38.875 34.625 31.78125 34.625 \r\nz\r\nM 21.921875 38.8125 \r\nQ 15.578125 40.375 12.03125 44.71875 \r\nQ 8.5 49.078125 8.5 55.328125 \r\nQ 8.5 64.0625 14.71875 69.140625 \r\nQ 20.953125 74.21875 31.78125 74.21875 \r\nQ 42.671875 74.21875 48.875 69.140625 \r\nQ 55.078125 64.0625 55.078125 55.328125 \r\nQ 55.078125 49.078125 51.53125 44.71875 \r\nQ 48 40.375 41.703125 38.8125 \r\nQ 48.828125 37.15625 52.796875 32.3125 \r\nQ 56.78125 27.484375 56.78125 20.515625 \r\nQ 56.78125 9.90625 50.3125 4.234375 \r\nQ 43.84375 -1.421875 31.78125 -1.421875 \r\nQ 19.734375 -1.421875 13.25 4.234375 \r\nQ 6.78125 9.90625 6.78125 20.515625 \r\nQ 6.78125 27.484375 10.78125 32.3125 \r\nQ 14.796875 37.15625 21.921875 38.8125 \r\nz\r\nM 18.3125 54.390625 \r\nQ 18.3125 48.734375 21.84375 45.5625 \r\nQ 25.390625 42.390625 31.78125 42.390625 \r\nQ 38.140625 42.390625 41.71875 45.5625 \r\nQ 45.3125 48.734375 45.3125 54.390625 \r\nQ 45.3125 60.0625 41.71875 63.234375 \r\nQ 38.140625 66.40625 31.78125 66.40625 \r\nQ 25.390625 66.40625 21.84375 63.234375 \r\nQ 18.3125 60.0625 18.3125 54.390625 \r\nz\r\n\" id=\"DejaVuSans-56\"/>\r\n        <path d=\"M 11.71875 12.40625 \r\nL 22.015625 12.40625 \r\nL 22.015625 0 \r\nL 11.71875 0 \r\nz\r\nM 11.71875 51.703125 \r\nL 22.015625 51.703125 \r\nL 22.015625 39.3125 \r\nL 11.71875 39.3125 \r\nz\r\n\" id=\"DejaVuSans-58\"/>\r\n       </defs>\r\n       <use xlink:href=\"#DejaVuSans-50\"/>\r\n       <use x=\"63.623047\" xlink:href=\"#DejaVuSans-48\"/>\r\n       <use x=\"127.246094\" xlink:href=\"#DejaVuSans-50\"/>\r\n       <use x=\"190.869141\" xlink:href=\"#DejaVuSans-48\"/>\r\n       <use x=\"254.492188\" xlink:href=\"#DejaVuSans-45\"/>\r\n       <use x=\"290.576172\" xlink:href=\"#DejaVuSans-49\"/>\r\n       <use x=\"354.199219\" xlink:href=\"#DejaVuSans-50\"/>\r\n       <use x=\"417.822266\" xlink:href=\"#DejaVuSans-45\"/>\r\n       <use x=\"453.90625\" xlink:href=\"#DejaVuSans-50\"/>\r\n       <use x=\"517.529297\" xlink:href=\"#DejaVuSans-57\"/>\r\n       <use x=\"581.152344\" xlink:href=\"#DejaVuSans-32\"/>\r\n       <use x=\"612.939453\" xlink:href=\"#DejaVuSans-49\"/>\r\n       <use x=\"676.5625\" xlink:href=\"#DejaVuSans-56\"/>\r\n       <use x=\"740.185547\" xlink:href=\"#DejaVuSans-58\"/>\r\n       <use x=\"773.876953\" xlink:href=\"#DejaVuSans-48\"/>\r\n       <use x=\"837.5\" xlink:href=\"#DejaVuSans-48\"/>\r\n       <use x=\"901.123047\" xlink:href=\"#DejaVuSans-58\"/>\r\n       <use x=\"934.814453\" xlink:href=\"#DejaVuSans-48\"/>\r\n       <use x=\"998.4375\" xlink:href=\"#DejaVuSans-48\"/>\r\n      </g>\r\n     </g>\r\n    </g>\r\n    <g id=\"xtick_2\">\r\n     <g id=\"line2d_2\">\r\n      <g>\r\n       <use style=\"stroke:#000000;stroke-width:0.8;\" x=\"126.469133\" xlink:href=\"#mb5b56f7eee\" y=\"224.64\"/>\r\n      </g>\r\n     </g>\r\n     <g id=\"text_2\">\r\n      <!-- 2020-12-29 23:00:00 -->\r\n      <g transform=\"translate(73.366008 239.238438)scale(0.1 -0.1)\">\r\n       <defs>\r\n        <path d=\"M 40.578125 39.3125 \r\nQ 47.65625 37.796875 51.625 33 \r\nQ 55.609375 28.21875 55.609375 21.1875 \r\nQ 55.609375 10.40625 48.1875 4.484375 \r\nQ 40.765625 -1.421875 27.09375 -1.421875 \r\nQ 22.515625 -1.421875 17.65625 -0.515625 \r\nQ 12.796875 0.390625 7.625 2.203125 \r\nL 7.625 11.71875 \r\nQ 11.71875 9.328125 16.59375 8.109375 \r\nQ 21.484375 6.890625 26.8125 6.890625 \r\nQ 36.078125 6.890625 40.9375 10.546875 \r\nQ 45.796875 14.203125 45.796875 21.1875 \r\nQ 45.796875 27.640625 41.28125 31.265625 \r\nQ 36.765625 34.90625 28.71875 34.90625 \r\nL 20.21875 34.90625 \r\nL 20.21875 43.015625 \r\nL 29.109375 43.015625 \r\nQ 36.375 43.015625 40.234375 45.921875 \r\nQ 44.09375 48.828125 44.09375 54.296875 \r\nQ 44.09375 59.90625 40.109375 62.90625 \r\nQ 36.140625 65.921875 28.71875 65.921875 \r\nQ 24.65625 65.921875 20.015625 65.03125 \r\nQ 15.375 64.15625 9.8125 62.3125 \r\nL 9.8125 71.09375 \r\nQ 15.4375 72.65625 20.34375 73.4375 \r\nQ 25.25 74.21875 29.59375 74.21875 \r\nQ 40.828125 74.21875 47.359375 69.109375 \r\nQ 53.90625 64.015625 53.90625 55.328125 \r\nQ 53.90625 49.265625 50.4375 45.09375 \r\nQ 46.96875 40.921875 40.578125 39.3125 \r\nz\r\n\" id=\"DejaVuSans-51\"/>\r\n       </defs>\r\n       <use xlink:href=\"#DejaVuSans-50\"/>\r\n       <use x=\"63.623047\" xlink:href=\"#DejaVuSans-48\"/>\r\n       <use x=\"127.246094\" xlink:href=\"#DejaVuSans-50\"/>\r\n       <use x=\"190.869141\" xlink:href=\"#DejaVuSans-48\"/>\r\n       <use x=\"254.492188\" xlink:href=\"#DejaVuSans-45\"/>\r\n       <use x=\"290.576172\" xlink:href=\"#DejaVuSans-49\"/>\r\n       <use x=\"354.199219\" xlink:href=\"#DejaVuSans-50\"/>\r\n       <use x=\"417.822266\" xlink:href=\"#DejaVuSans-45\"/>\r\n       <use x=\"453.90625\" xlink:href=\"#DejaVuSans-50\"/>\r\n       <use x=\"517.529297\" xlink:href=\"#DejaVuSans-57\"/>\r\n       <use x=\"581.152344\" xlink:href=\"#DejaVuSans-32\"/>\r\n       <use x=\"612.939453\" xlink:href=\"#DejaVuSans-50\"/>\r\n       <use x=\"676.5625\" xlink:href=\"#DejaVuSans-51\"/>\r\n       <use x=\"740.185547\" xlink:href=\"#DejaVuSans-58\"/>\r\n       <use x=\"773.876953\" xlink:href=\"#DejaVuSans-48\"/>\r\n       <use x=\"837.5\" xlink:href=\"#DejaVuSans-48\"/>\r\n       <use x=\"901.123047\" xlink:href=\"#DejaVuSans-58\"/>\r\n       <use x=\"934.814453\" xlink:href=\"#DejaVuSans-48\"/>\r\n       <use x=\"998.4375\" xlink:href=\"#DejaVuSans-48\"/>\r\n      </g>\r\n     </g>\r\n    </g>\r\n    <g id=\"xtick_3\">\r\n     <g id=\"line2d_3\">\r\n      <g>\r\n       <use style=\"stroke:#000000;stroke-width:0.8;\" x=\"192.635141\" xlink:href=\"#mb5b56f7eee\" y=\"224.64\"/>\r\n      </g>\r\n     </g>\r\n     <g id=\"text_3\">\r\n      <!-- 2020-12-30 04:00:00 -->\r\n      <g transform=\"translate(139.532016 239.238438)scale(0.1 -0.1)\">\r\n       <defs>\r\n        <path d=\"M 37.796875 64.3125 \r\nL 12.890625 25.390625 \r\nL 37.796875 25.390625 \r\nz\r\nM 35.203125 72.90625 \r\nL 47.609375 72.90625 \r\nL 47.609375 25.390625 \r\nL 58.015625 25.390625 \r\nL 58.015625 17.1875 \r\nL 47.609375 17.1875 \r\nL 47.609375 0 \r\nL 37.796875 0 \r\nL 37.796875 17.1875 \r\nL 4.890625 17.1875 \r\nL 4.890625 26.703125 \r\nz\r\n\" id=\"DejaVuSans-52\"/>\r\n       </defs>\r\n       <use xlink:href=\"#DejaVuSans-50\"/>\r\n       <use x=\"63.623047\" xlink:href=\"#DejaVuSans-48\"/>\r\n       <use x=\"127.246094\" xlink:href=\"#DejaVuSans-50\"/>\r\n       <use x=\"190.869141\" xlink:href=\"#DejaVuSans-48\"/>\r\n       <use x=\"254.492188\" xlink:href=\"#DejaVuSans-45\"/>\r\n       <use x=\"290.576172\" xlink:href=\"#DejaVuSans-49\"/>\r\n       <use x=\"354.199219\" xlink:href=\"#DejaVuSans-50\"/>\r\n       <use x=\"417.822266\" xlink:href=\"#DejaVuSans-45\"/>\r\n       <use x=\"453.90625\" xlink:href=\"#DejaVuSans-51\"/>\r\n       <use x=\"517.529297\" xlink:href=\"#DejaVuSans-48\"/>\r\n       <use x=\"581.152344\" xlink:href=\"#DejaVuSans-32\"/>\r\n       <use x=\"612.939453\" xlink:href=\"#DejaVuSans-48\"/>\r\n       <use x=\"676.5625\" xlink:href=\"#DejaVuSans-52\"/>\r\n       <use x=\"740.185547\" xlink:href=\"#DejaVuSans-58\"/>\r\n       <use x=\"773.876953\" xlink:href=\"#DejaVuSans-48\"/>\r\n       <use x=\"837.5\" xlink:href=\"#DejaVuSans-48\"/>\r\n       <use x=\"901.123047\" xlink:href=\"#DejaVuSans-58\"/>\r\n       <use x=\"934.814453\" xlink:href=\"#DejaVuSans-48\"/>\r\n       <use x=\"998.4375\" xlink:href=\"#DejaVuSans-48\"/>\r\n      </g>\r\n     </g>\r\n    </g>\r\n    <g id=\"xtick_4\">\r\n     <g id=\"line2d_4\">\r\n      <g>\r\n       <use style=\"stroke:#000000;stroke-width:0.8;\" x=\"258.801149\" xlink:href=\"#mb5b56f7eee\" y=\"224.64\"/>\r\n      </g>\r\n     </g>\r\n     <g id=\"text_4\">\r\n      <!-- 2020-12-30 09:00:00 -->\r\n      <g transform=\"translate(205.698024 239.238438)scale(0.1 -0.1)\">\r\n       <use xlink:href=\"#DejaVuSans-50\"/>\r\n       <use x=\"63.623047\" xlink:href=\"#DejaVuSans-48\"/>\r\n       <use x=\"127.246094\" xlink:href=\"#DejaVuSans-50\"/>\r\n       <use x=\"190.869141\" xlink:href=\"#DejaVuSans-48\"/>\r\n       <use x=\"254.492188\" xlink:href=\"#DejaVuSans-45\"/>\r\n       <use x=\"290.576172\" xlink:href=\"#DejaVuSans-49\"/>\r\n       <use x=\"354.199219\" xlink:href=\"#DejaVuSans-50\"/>\r\n       <use x=\"417.822266\" xlink:href=\"#DejaVuSans-45\"/>\r\n       <use x=\"453.90625\" xlink:href=\"#DejaVuSans-51\"/>\r\n       <use x=\"517.529297\" xlink:href=\"#DejaVuSans-48\"/>\r\n       <use x=\"581.152344\" xlink:href=\"#DejaVuSans-32\"/>\r\n       <use x=\"612.939453\" xlink:href=\"#DejaVuSans-48\"/>\r\n       <use x=\"676.5625\" xlink:href=\"#DejaVuSans-57\"/>\r\n       <use x=\"740.185547\" xlink:href=\"#DejaVuSans-58\"/>\r\n       <use x=\"773.876953\" xlink:href=\"#DejaVuSans-48\"/>\r\n       <use x=\"837.5\" xlink:href=\"#DejaVuSans-48\"/>\r\n       <use x=\"901.123047\" xlink:href=\"#DejaVuSans-58\"/>\r\n       <use x=\"934.814453\" xlink:href=\"#DejaVuSans-48\"/>\r\n       <use x=\"998.4375\" xlink:href=\"#DejaVuSans-48\"/>\r\n      </g>\r\n     </g>\r\n    </g>\r\n    <g id=\"xtick_5\">\r\n     <g id=\"line2d_5\">\r\n      <g>\r\n       <use style=\"stroke:#000000;stroke-width:0.8;\" x=\"324.967157\" xlink:href=\"#mb5b56f7eee\" y=\"224.64\"/>\r\n      </g>\r\n     </g>\r\n     <g id=\"text_5\">\r\n      <!-- 2020-12-30 14:00:00 -->\r\n      <g transform=\"translate(271.864032 239.238438)scale(0.1 -0.1)\">\r\n       <use xlink:href=\"#DejaVuSans-50\"/>\r\n       <use x=\"63.623047\" xlink:href=\"#DejaVuSans-48\"/>\r\n       <use x=\"127.246094\" xlink:href=\"#DejaVuSans-50\"/>\r\n       <use x=\"190.869141\" xlink:href=\"#DejaVuSans-48\"/>\r\n       <use x=\"254.492188\" xlink:href=\"#DejaVuSans-45\"/>\r\n       <use x=\"290.576172\" xlink:href=\"#DejaVuSans-49\"/>\r\n       <use x=\"354.199219\" xlink:href=\"#DejaVuSans-50\"/>\r\n       <use x=\"417.822266\" xlink:href=\"#DejaVuSans-45\"/>\r\n       <use x=\"453.90625\" xlink:href=\"#DejaVuSans-51\"/>\r\n       <use x=\"517.529297\" xlink:href=\"#DejaVuSans-48\"/>\r\n       <use x=\"581.152344\" xlink:href=\"#DejaVuSans-32\"/>\r\n       <use x=\"612.939453\" xlink:href=\"#DejaVuSans-49\"/>\r\n       <use x=\"676.5625\" xlink:href=\"#DejaVuSans-52\"/>\r\n       <use x=\"740.185547\" xlink:href=\"#DejaVuSans-58\"/>\r\n       <use x=\"773.876953\" xlink:href=\"#DejaVuSans-48\"/>\r\n       <use x=\"837.5\" xlink:href=\"#DejaVuSans-48\"/>\r\n       <use x=\"901.123047\" xlink:href=\"#DejaVuSans-58\"/>\r\n       <use x=\"934.814453\" xlink:href=\"#DejaVuSans-48\"/>\r\n       <use x=\"998.4375\" xlink:href=\"#DejaVuSans-48\"/>\r\n      </g>\r\n     </g>\r\n    </g>\r\n    <g id=\"text_6\">\r\n     <!-- date -->\r\n     <g transform=\"translate(201.209943 252.916563)scale(0.1 -0.1)\">\r\n      <defs>\r\n       <path d=\"M 45.40625 46.390625 \r\nL 45.40625 75.984375 \r\nL 54.390625 75.984375 \r\nL 54.390625 0 \r\nL 45.40625 0 \r\nL 45.40625 8.203125 \r\nQ 42.578125 3.328125 38.25 0.953125 \r\nQ 33.9375 -1.421875 27.875 -1.421875 \r\nQ 17.96875 -1.421875 11.734375 6.484375 \r\nQ 5.515625 14.40625 5.515625 27.296875 \r\nQ 5.515625 40.1875 11.734375 48.09375 \r\nQ 17.96875 56 27.875 56 \r\nQ 33.9375 56 38.25 53.625 \r\nQ 42.578125 51.265625 45.40625 46.390625 \r\nz\r\nM 14.796875 27.296875 \r\nQ 14.796875 17.390625 18.875 11.75 \r\nQ 22.953125 6.109375 30.078125 6.109375 \r\nQ 37.203125 6.109375 41.296875 11.75 \r\nQ 45.40625 17.390625 45.40625 27.296875 \r\nQ 45.40625 37.203125 41.296875 42.84375 \r\nQ 37.203125 48.484375 30.078125 48.484375 \r\nQ 22.953125 48.484375 18.875 42.84375 \r\nQ 14.796875 37.203125 14.796875 27.296875 \r\nz\r\n\" id=\"DejaVuSans-100\"/>\r\n       <path d=\"M 34.28125 27.484375 \r\nQ 23.390625 27.484375 19.1875 25 \r\nQ 14.984375 22.515625 14.984375 16.5 \r\nQ 14.984375 11.71875 18.140625 8.90625 \r\nQ 21.296875 6.109375 26.703125 6.109375 \r\nQ 34.1875 6.109375 38.703125 11.40625 \r\nQ 43.21875 16.703125 43.21875 25.484375 \r\nL 43.21875 27.484375 \r\nz\r\nM 52.203125 31.203125 \r\nL 52.203125 0 \r\nL 43.21875 0 \r\nL 43.21875 8.296875 \r\nQ 40.140625 3.328125 35.546875 0.953125 \r\nQ 30.953125 -1.421875 24.3125 -1.421875 \r\nQ 15.921875 -1.421875 10.953125 3.296875 \r\nQ 6 8.015625 6 15.921875 \r\nQ 6 25.140625 12.171875 29.828125 \r\nQ 18.359375 34.515625 30.609375 34.515625 \r\nL 43.21875 34.515625 \r\nL 43.21875 35.40625 \r\nQ 43.21875 41.609375 39.140625 45 \r\nQ 35.0625 48.390625 27.6875 48.390625 \r\nQ 23 48.390625 18.546875 47.265625 \r\nQ 14.109375 46.140625 10.015625 43.890625 \r\nL 10.015625 52.203125 \r\nQ 14.9375 54.109375 19.578125 55.046875 \r\nQ 24.21875 56 28.609375 56 \r\nQ 40.484375 56 46.34375 49.84375 \r\nQ 52.203125 43.703125 52.203125 31.203125 \r\nz\r\n\" id=\"DejaVuSans-97\"/>\r\n       <path d=\"M 18.3125 70.21875 \r\nL 18.3125 54.6875 \r\nL 36.8125 54.6875 \r\nL 36.8125 47.703125 \r\nL 18.3125 47.703125 \r\nL 18.3125 18.015625 \r\nQ 18.3125 11.328125 20.140625 9.421875 \r\nQ 21.96875 7.515625 27.59375 7.515625 \r\nL 36.8125 7.515625 \r\nL 36.8125 0 \r\nL 27.59375 0 \r\nQ 17.1875 0 13.234375 3.875 \r\nQ 9.28125 7.765625 9.28125 18.015625 \r\nL 9.28125 47.703125 \r\nL 2.6875 47.703125 \r\nL 2.6875 54.6875 \r\nL 9.28125 54.6875 \r\nL 9.28125 70.21875 \r\nz\r\n\" id=\"DejaVuSans-116\"/>\r\n       <path d=\"M 56.203125 29.59375 \r\nL 56.203125 25.203125 \r\nL 14.890625 25.203125 \r\nQ 15.484375 15.921875 20.484375 11.0625 \r\nQ 25.484375 6.203125 34.421875 6.203125 \r\nQ 39.59375 6.203125 44.453125 7.46875 \r\nQ 49.3125 8.734375 54.109375 11.28125 \r\nL 54.109375 2.78125 \r\nQ 49.265625 0.734375 44.1875 -0.34375 \r\nQ 39.109375 -1.421875 33.890625 -1.421875 \r\nQ 20.796875 -1.421875 13.15625 6.1875 \r\nQ 5.515625 13.8125 5.515625 26.8125 \r\nQ 5.515625 40.234375 12.765625 48.109375 \r\nQ 20.015625 56 32.328125 56 \r\nQ 43.359375 56 49.78125 48.890625 \r\nQ 56.203125 41.796875 56.203125 29.59375 \r\nz\r\nM 47.21875 32.234375 \r\nQ 47.125 39.59375 43.09375 43.984375 \r\nQ 39.0625 48.390625 32.421875 48.390625 \r\nQ 24.90625 48.390625 20.390625 44.140625 \r\nQ 15.875 39.890625 15.1875 32.171875 \r\nz\r\n\" id=\"DejaVuSans-101\"/>\r\n      </defs>\r\n      <use xlink:href=\"#DejaVuSans-100\"/>\r\n      <use x=\"63.476562\" xlink:href=\"#DejaVuSans-97\"/>\r\n      <use x=\"124.755859\" xlink:href=\"#DejaVuSans-116\"/>\r\n      <use x=\"163.964844\" xlink:href=\"#DejaVuSans-101\"/>\r\n     </g>\r\n    </g>\r\n   </g>\r\n   <g id=\"matplotlib.axis_2\">\r\n    <g id=\"ytick_1\">\r\n     <g id=\"line2d_6\">\r\n      <defs>\r\n       <path d=\"M 0 0 \r\nL -3.5 0 \r\n\" id=\"m8de4be5801\" style=\"stroke:#000000;stroke-width:0.8;\"/>\r\n      </defs>\r\n      <g>\r\n       <use style=\"stroke:#000000;stroke-width:0.8;\" x=\"45.084943\" xlink:href=\"#m8de4be5801\" y=\"192.316406\"/>\r\n      </g>\r\n     </g>\r\n     <g id=\"text_7\">\r\n      <!-- 1.224 -->\r\n      <g transform=\"translate(9.456818 196.115625)scale(0.1 -0.1)\">\r\n       <defs>\r\n        <path d=\"M 10.6875 12.40625 \r\nL 21 12.40625 \r\nL 21 0 \r\nL 10.6875 0 \r\nz\r\n\" id=\"DejaVuSans-46\"/>\r\n       </defs>\r\n       <use xlink:href=\"#DejaVuSans-49\"/>\r\n       <use x=\"63.623047\" xlink:href=\"#DejaVuSans-46\"/>\r\n       <use x=\"95.410156\" xlink:href=\"#DejaVuSans-50\"/>\r\n       <use x=\"159.033203\" xlink:href=\"#DejaVuSans-50\"/>\r\n       <use x=\"222.65625\" xlink:href=\"#DejaVuSans-52\"/>\r\n      </g>\r\n     </g>\r\n    </g>\r\n    <g id=\"ytick_2\">\r\n     <g id=\"line2d_7\">\r\n      <g>\r\n       <use style=\"stroke:#000000;stroke-width:0.8;\" x=\"45.084943\" xlink:href=\"#m8de4be5801\" y=\"158.468627\"/>\r\n      </g>\r\n     </g>\r\n     <g id=\"text_8\">\r\n      <!-- 1.225 -->\r\n      <g transform=\"translate(9.456818 162.267846)scale(0.1 -0.1)\">\r\n       <defs>\r\n        <path d=\"M 10.796875 72.90625 \r\nL 49.515625 72.90625 \r\nL 49.515625 64.59375 \r\nL 19.828125 64.59375 \r\nL 19.828125 46.734375 \r\nQ 21.96875 47.46875 24.109375 47.828125 \r\nQ 26.265625 48.1875 28.421875 48.1875 \r\nQ 40.625 48.1875 47.75 41.5 \r\nQ 54.890625 34.8125 54.890625 23.390625 \r\nQ 54.890625 11.625 47.5625 5.09375 \r\nQ 40.234375 -1.421875 26.90625 -1.421875 \r\nQ 22.3125 -1.421875 17.546875 -0.640625 \r\nQ 12.796875 0.140625 7.71875 1.703125 \r\nL 7.71875 11.625 \r\nQ 12.109375 9.234375 16.796875 8.0625 \r\nQ 21.484375 6.890625 26.703125 6.890625 \r\nQ 35.15625 6.890625 40.078125 11.328125 \r\nQ 45.015625 15.765625 45.015625 23.390625 \r\nQ 45.015625 31 40.078125 35.4375 \r\nQ 35.15625 39.890625 26.703125 39.890625 \r\nQ 22.75 39.890625 18.8125 39.015625 \r\nQ 14.890625 38.140625 10.796875 36.28125 \r\nz\r\n\" id=\"DejaVuSans-53\"/>\r\n       </defs>\r\n       <use xlink:href=\"#DejaVuSans-49\"/>\r\n       <use x=\"63.623047\" xlink:href=\"#DejaVuSans-46\"/>\r\n       <use x=\"95.410156\" xlink:href=\"#DejaVuSans-50\"/>\r\n       <use x=\"159.033203\" xlink:href=\"#DejaVuSans-50\"/>\r\n       <use x=\"222.65625\" xlink:href=\"#DejaVuSans-53\"/>\r\n      </g>\r\n     </g>\r\n    </g>\r\n    <g id=\"ytick_3\">\r\n     <g id=\"line2d_8\">\r\n      <g>\r\n       <use style=\"stroke:#000000;stroke-width:0.8;\" x=\"45.084943\" xlink:href=\"#m8de4be5801\" y=\"124.620849\"/>\r\n      </g>\r\n     </g>\r\n     <g id=\"text_9\">\r\n      <!-- 1.226 -->\r\n      <g transform=\"translate(9.456818 128.420068)scale(0.1 -0.1)\">\r\n       <defs>\r\n        <path d=\"M 33.015625 40.375 \r\nQ 26.375 40.375 22.484375 35.828125 \r\nQ 18.609375 31.296875 18.609375 23.390625 \r\nQ 18.609375 15.53125 22.484375 10.953125 \r\nQ 26.375 6.390625 33.015625 6.390625 \r\nQ 39.65625 6.390625 43.53125 10.953125 \r\nQ 47.40625 15.53125 47.40625 23.390625 \r\nQ 47.40625 31.296875 43.53125 35.828125 \r\nQ 39.65625 40.375 33.015625 40.375 \r\nz\r\nM 52.59375 71.296875 \r\nL 52.59375 62.3125 \r\nQ 48.875 64.0625 45.09375 64.984375 \r\nQ 41.3125 65.921875 37.59375 65.921875 \r\nQ 27.828125 65.921875 22.671875 59.328125 \r\nQ 17.53125 52.734375 16.796875 39.40625 \r\nQ 19.671875 43.65625 24.015625 45.921875 \r\nQ 28.375 48.1875 33.59375 48.1875 \r\nQ 44.578125 48.1875 50.953125 41.515625 \r\nQ 57.328125 34.859375 57.328125 23.390625 \r\nQ 57.328125 12.15625 50.6875 5.359375 \r\nQ 44.046875 -1.421875 33.015625 -1.421875 \r\nQ 20.359375 -1.421875 13.671875 8.265625 \r\nQ 6.984375 17.96875 6.984375 36.375 \r\nQ 6.984375 53.65625 15.1875 63.9375 \r\nQ 23.390625 74.21875 37.203125 74.21875 \r\nQ 40.921875 74.21875 44.703125 73.484375 \r\nQ 48.484375 72.75 52.59375 71.296875 \r\nz\r\n\" id=\"DejaVuSans-54\"/>\r\n       </defs>\r\n       <use xlink:href=\"#DejaVuSans-49\"/>\r\n       <use x=\"63.623047\" xlink:href=\"#DejaVuSans-46\"/>\r\n       <use x=\"95.410156\" xlink:href=\"#DejaVuSans-50\"/>\r\n       <use x=\"159.033203\" xlink:href=\"#DejaVuSans-50\"/>\r\n       <use x=\"222.65625\" xlink:href=\"#DejaVuSans-54\"/>\r\n      </g>\r\n     </g>\r\n    </g>\r\n    <g id=\"ytick_4\">\r\n     <g id=\"line2d_9\">\r\n      <g>\r\n       <use style=\"stroke:#000000;stroke-width:0.8;\" x=\"45.084943\" xlink:href=\"#m8de4be5801\" y=\"90.773071\"/>\r\n      </g>\r\n     </g>\r\n     <g id=\"text_10\">\r\n      <!-- 1.227 -->\r\n      <g transform=\"translate(9.456818 94.572289)scale(0.1 -0.1)\">\r\n       <defs>\r\n        <path d=\"M 8.203125 72.90625 \r\nL 55.078125 72.90625 \r\nL 55.078125 68.703125 \r\nL 28.609375 0 \r\nL 18.3125 0 \r\nL 43.21875 64.59375 \r\nL 8.203125 64.59375 \r\nz\r\n\" id=\"DejaVuSans-55\"/>\r\n       </defs>\r\n       <use xlink:href=\"#DejaVuSans-49\"/>\r\n       <use x=\"63.623047\" xlink:href=\"#DejaVuSans-46\"/>\r\n       <use x=\"95.410156\" xlink:href=\"#DejaVuSans-50\"/>\r\n       <use x=\"159.033203\" xlink:href=\"#DejaVuSans-50\"/>\r\n       <use x=\"222.65625\" xlink:href=\"#DejaVuSans-55\"/>\r\n      </g>\r\n     </g>\r\n    </g>\r\n    <g id=\"ytick_5\">\r\n     <g id=\"line2d_10\">\r\n      <g>\r\n       <use style=\"stroke:#000000;stroke-width:0.8;\" x=\"45.084943\" xlink:href=\"#m8de4be5801\" y=\"56.925292\"/>\r\n      </g>\r\n     </g>\r\n     <g id=\"text_11\">\r\n      <!-- 1.228 -->\r\n      <g transform=\"translate(9.456818 60.724511)scale(0.1 -0.1)\">\r\n       <use xlink:href=\"#DejaVuSans-49\"/>\r\n       <use x=\"63.623047\" xlink:href=\"#DejaVuSans-46\"/>\r\n       <use x=\"95.410156\" xlink:href=\"#DejaVuSans-50\"/>\r\n       <use x=\"159.033203\" xlink:href=\"#DejaVuSans-50\"/>\r\n       <use x=\"222.65625\" xlink:href=\"#DejaVuSans-56\"/>\r\n      </g>\r\n     </g>\r\n    </g>\r\n    <g id=\"ytick_6\">\r\n     <g id=\"line2d_11\">\r\n      <g>\r\n       <use style=\"stroke:#000000;stroke-width:0.8;\" x=\"45.084943\" xlink:href=\"#m8de4be5801\" y=\"23.077514\"/>\r\n      </g>\r\n     </g>\r\n     <g id=\"text_12\">\r\n      <!-- 1.229 -->\r\n      <g transform=\"translate(9.456818 26.876733)scale(0.1 -0.1)\">\r\n       <use xlink:href=\"#DejaVuSans-49\"/>\r\n       <use x=\"63.623047\" xlink:href=\"#DejaVuSans-46\"/>\r\n       <use x=\"95.410156\" xlink:href=\"#DejaVuSans-50\"/>\r\n       <use x=\"159.033203\" xlink:href=\"#DejaVuSans-50\"/>\r\n       <use x=\"222.65625\" xlink:href=\"#DejaVuSans-57\"/>\r\n      </g>\r\n     </g>\r\n    </g>\r\n   </g>\r\n   <g id=\"line2d_12\">\r\n    <path clip-path=\"url(#pf30d0b76c1)\" d=\"M 60.303125 70.605436 \r\nL 73.536327 65.528269 \r\nL 86.769528 59.604908 \r\nL 100.00273 52.905868 \r\nL 113.235931 46.770959 \r\nL 126.469133 40.283468 \r\nL 139.702334 34.783204 \r\nL 152.935536 32.526685 \r\nL 166.168738 32.174104 \r\nL 179.401939 31.045845 \r\nL 192.635141 30.834296 \r\nL 205.868342 30.270167 \r\nL 219.101544 29.000875 \r\nL 232.334746 24.699387 \r\nL 245.567947 18.705509 \r\nL 258.801149 17.295185 \r\nL 272.03435 17.365701 \r\nL 285.267552 17.083636 \r\nL 298.500753 19.62222 \r\nL 311.733955 20.53893 \r\nL 324.967157 24.487838 \r\nL 338.200358 33.231847 \r\nL 351.43356 40.001403 \r\nL 364.666761 49.097993 \r\n\" style=\"fill:none;stroke:#1f77b4;stroke-linecap:square;stroke-width:1.5;\"/>\r\n   </g>\r\n   <g id=\"line2d_13\">\r\n    <path clip-path=\"url(#pf30d0b76c1)\" d=\"M 60.303125 214.756364 \r\nL 73.536327 210.260902 \r\nL 86.769528 206.920554 \r\nL 100.00273 201.32051 \r\nL 113.235931 194.618647 \r\nL 126.469133 191.904097 \r\nL 139.702334 186.947238 \r\nL 152.935536 180.308814 \r\nL 166.168738 175.308337 \r\nL 179.401939 170.215135 \r\nL 192.635141 164.669516 \r\nL 205.868342 157.792904 \r\nL 219.101544 152.276594 \r\nL 232.334746 148.39842 \r\nL 245.567947 144.587158 \r\nL 258.801149 141.581771 \r\nL 272.03435 136.268541 \r\nL 285.267552 130.61639 \r\nL 298.500753 128.977184 \r\nL 311.733955 124.389208 \r\nL 324.967157 119.483743 \r\nL 338.200358 115.323704 \r\nL 351.43356 112.531604 \r\nL 364.666761 106.004839 \r\n\" style=\"fill:none;stroke:#ff7f0e;stroke-linecap:square;stroke-width:1.5;\"/>\r\n   </g>\r\n   <g id=\"patch_3\">\r\n    <path d=\"M 45.084943 224.64 \r\nL 45.084943 7.2 \r\n\" style=\"fill:none;stroke:#000000;stroke-linecap:square;stroke-linejoin:miter;stroke-width:0.8;\"/>\r\n   </g>\r\n   <g id=\"patch_4\">\r\n    <path d=\"M 379.884943 224.64 \r\nL 379.884943 7.2 \r\n\" style=\"fill:none;stroke:#000000;stroke-linecap:square;stroke-linejoin:miter;stroke-width:0.8;\"/>\r\n   </g>\r\n   <g id=\"patch_5\">\r\n    <path d=\"M 45.084943 224.64 \r\nL 379.884943 224.64 \r\n\" style=\"fill:none;stroke:#000000;stroke-linecap:square;stroke-linejoin:miter;stroke-width:0.8;\"/>\r\n   </g>\r\n   <g id=\"patch_6\">\r\n    <path d=\"M 45.084943 7.2 \r\nL 379.884943 7.2 \r\n\" style=\"fill:none;stroke:#000000;stroke-linecap:square;stroke-linejoin:miter;stroke-width:0.8;\"/>\r\n   </g>\r\n   <g id=\"legend_1\">\r\n    <g id=\"patch_7\">\r\n     <path d=\"M 305.952131 219.64 \r\nL 372.884943 219.64 \r\nQ 374.884943 219.64 374.884943 217.64 \r\nL 374.884943 189.28375 \r\nQ 374.884943 187.28375 372.884943 187.28375 \r\nL 305.952131 187.28375 \r\nQ 303.952131 187.28375 303.952131 189.28375 \r\nL 303.952131 217.64 \r\nQ 303.952131 219.64 305.952131 219.64 \r\nz\r\n\" style=\"fill:#ffffff;opacity:0.8;stroke:#cccccc;stroke-linejoin:miter;\"/>\r\n    </g>\r\n    <g id=\"line2d_14\">\r\n     <path d=\"M 307.952131 195.382188 \r\nL 327.952131 195.382188 \r\n\" style=\"fill:none;stroke:#1f77b4;stroke-linecap:square;stroke-width:1.5;\"/>\r\n    </g>\r\n    <g id=\"line2d_15\"/>\r\n    <g id=\"text_13\">\r\n     <!-- real -->\r\n     <g transform=\"translate(335.952131 198.882188)scale(0.1 -0.1)\">\r\n      <defs>\r\n       <path d=\"M 41.109375 46.296875 \r\nQ 39.59375 47.171875 37.8125 47.578125 \r\nQ 36.03125 48 33.890625 48 \r\nQ 26.265625 48 22.1875 43.046875 \r\nQ 18.109375 38.09375 18.109375 28.8125 \r\nL 18.109375 0 \r\nL 9.078125 0 \r\nL 9.078125 54.6875 \r\nL 18.109375 54.6875 \r\nL 18.109375 46.1875 \r\nQ 20.953125 51.171875 25.484375 53.578125 \r\nQ 30.03125 56 36.53125 56 \r\nQ 37.453125 56 38.578125 55.875 \r\nQ 39.703125 55.765625 41.0625 55.515625 \r\nz\r\n\" id=\"DejaVuSans-114\"/>\r\n       <path d=\"M 9.421875 75.984375 \r\nL 18.40625 75.984375 \r\nL 18.40625 0 \r\nL 9.421875 0 \r\nz\r\n\" id=\"DejaVuSans-108\"/>\r\n      </defs>\r\n      <use xlink:href=\"#DejaVuSans-114\"/>\r\n      <use x=\"38.863281\" xlink:href=\"#DejaVuSans-101\"/>\r\n      <use x=\"100.386719\" xlink:href=\"#DejaVuSans-97\"/>\r\n      <use x=\"161.666016\" xlink:href=\"#DejaVuSans-108\"/>\r\n     </g>\r\n    </g>\r\n    <g id=\"line2d_16\">\r\n     <path d=\"M 307.952131 210.060313 \r\nL 327.952131 210.060313 \r\n\" style=\"fill:none;stroke:#ff7f0e;stroke-linecap:square;stroke-width:1.5;\"/>\r\n    </g>\r\n    <g id=\"line2d_17\"/>\r\n    <g id=\"text_14\">\r\n     <!-- predict -->\r\n     <g transform=\"translate(335.952131 213.560313)scale(0.1 -0.1)\">\r\n      <defs>\r\n       <path d=\"M 18.109375 8.203125 \r\nL 18.109375 -20.796875 \r\nL 9.078125 -20.796875 \r\nL 9.078125 54.6875 \r\nL 18.109375 54.6875 \r\nL 18.109375 46.390625 \r\nQ 20.953125 51.265625 25.265625 53.625 \r\nQ 29.59375 56 35.59375 56 \r\nQ 45.5625 56 51.78125 48.09375 \r\nQ 58.015625 40.1875 58.015625 27.296875 \r\nQ 58.015625 14.40625 51.78125 6.484375 \r\nQ 45.5625 -1.421875 35.59375 -1.421875 \r\nQ 29.59375 -1.421875 25.265625 0.953125 \r\nQ 20.953125 3.328125 18.109375 8.203125 \r\nz\r\nM 48.6875 27.296875 \r\nQ 48.6875 37.203125 44.609375 42.84375 \r\nQ 40.53125 48.484375 33.40625 48.484375 \r\nQ 26.265625 48.484375 22.1875 42.84375 \r\nQ 18.109375 37.203125 18.109375 27.296875 \r\nQ 18.109375 17.390625 22.1875 11.75 \r\nQ 26.265625 6.109375 33.40625 6.109375 \r\nQ 40.53125 6.109375 44.609375 11.75 \r\nQ 48.6875 17.390625 48.6875 27.296875 \r\nz\r\n\" id=\"DejaVuSans-112\"/>\r\n       <path d=\"M 9.421875 54.6875 \r\nL 18.40625 54.6875 \r\nL 18.40625 0 \r\nL 9.421875 0 \r\nz\r\nM 9.421875 75.984375 \r\nL 18.40625 75.984375 \r\nL 18.40625 64.59375 \r\nL 9.421875 64.59375 \r\nz\r\n\" id=\"DejaVuSans-105\"/>\r\n       <path d=\"M 48.78125 52.59375 \r\nL 48.78125 44.1875 \r\nQ 44.96875 46.296875 41.140625 47.34375 \r\nQ 37.3125 48.390625 33.40625 48.390625 \r\nQ 24.65625 48.390625 19.8125 42.84375 \r\nQ 14.984375 37.3125 14.984375 27.296875 \r\nQ 14.984375 17.28125 19.8125 11.734375 \r\nQ 24.65625 6.203125 33.40625 6.203125 \r\nQ 37.3125 6.203125 41.140625 7.25 \r\nQ 44.96875 8.296875 48.78125 10.40625 \r\nL 48.78125 2.09375 \r\nQ 45.015625 0.34375 40.984375 -0.53125 \r\nQ 36.96875 -1.421875 32.421875 -1.421875 \r\nQ 20.0625 -1.421875 12.78125 6.34375 \r\nQ 5.515625 14.109375 5.515625 27.296875 \r\nQ 5.515625 40.671875 12.859375 48.328125 \r\nQ 20.21875 56 33.015625 56 \r\nQ 37.15625 56 41.109375 55.140625 \r\nQ 45.0625 54.296875 48.78125 52.59375 \r\nz\r\n\" id=\"DejaVuSans-99\"/>\r\n      </defs>\r\n      <use xlink:href=\"#DejaVuSans-112\"/>\r\n      <use x=\"63.476562\" xlink:href=\"#DejaVuSans-114\"/>\r\n      <use x=\"102.339844\" xlink:href=\"#DejaVuSans-101\"/>\r\n      <use x=\"163.863281\" xlink:href=\"#DejaVuSans-100\"/>\r\n      <use x=\"227.339844\" xlink:href=\"#DejaVuSans-105\"/>\r\n      <use x=\"255.123047\" xlink:href=\"#DejaVuSans-99\"/>\r\n      <use x=\"310.103516\" xlink:href=\"#DejaVuSans-116\"/>\r\n     </g>\r\n    </g>\r\n   </g>\r\n  </g>\r\n </g>\r\n <defs>\r\n  <clipPath id=\"pf30d0b76c1\">\r\n   <rect height=\"217.44\" width=\"334.8\" x=\"45.084943\" y=\"7.2\"/>\r\n  </clipPath>\r\n </defs>\r\n</svg>\r\n",
      "image/png": "[encoded data removed]"
     },
     "metadata": {
      "needs_background": "light"
     }
    }
   ]
  },
  {
   "cell_type": "code",
   "execution_count": 146,
   "metadata": {},
   "outputs": [],
   "source": [
    "def correlation(data):\n",
    "    inter_r = []\n",
    "    for r in data:\n",
    "        if 0.7 < abs(r) and abs(r)<=1:\n",
    "            if r > 0 :\n",
    "                # inter_r.append([r,\"Strong correlation\"])\n",
    "                inter_r.append(6) \n",
    "            else :\n",
    "                inter_r.append(5) \n",
    "                # inter_r.append([r,\"Strong correlation\"]) \n",
    "        elif 0.4 < abs(r) and abs(r) <= 0.7:\n",
    "            if r > 0 :\n",
    "                inter_r.append(4) \n",
    "            else:\n",
    "                inter_r.append(3) \n",
    "            # inter_r = \"Moderate correlation\"\n",
    "        elif 0.2 < abs(r) and abs(r) <= 0.4:\n",
    "            if r > 0 :\n",
    "                inter_r.append(2) \n",
    "            else:\n",
    "                inter_r.append(1) \n",
    "            # inter_r = \"Weak correlation\"\n",
    "        else:\n",
    "            inter_r.append(0) \n",
    "            # inter_r = \"No correlation\"\n",
    "\n",
    "    return inter_r "
   ]
  },
  {
   "cell_type": "code",
   "execution_count": 176,
   "metadata": {},
   "outputs": [],
   "source": [
    "time = pd.DataFrame(np.array(range(0,len(yhat))),columns=['time'],index=Y.index)\n",
    "corr_predict = yhat['close'].rolling(24).corr(time)\n",
    "corr_real = Y['close_24'].rolling(24).corr(time)\n"
   ]
  },
  {
   "cell_type": "code",
   "execution_count": 177,
   "metadata": {
    "tags": []
   },
   "outputs": [
    {
     "output_type": "execute_result",
     "data": {
      "text/plain": [
       "0.19292237442922375"
      ]
     },
     "metadata": {},
     "execution_count": 177
    }
   ],
   "source": [
    "from sklearn.metrics import accuracy_score\n",
    "y_true = correlation(corr_real.values)\n",
    "y_pred = correlation(corr_predict.values)\n",
    "accuracy_score(y_true, y_pred)\n"
   ]
  },
  {
   "cell_type": "code",
   "execution_count": 181,
   "metadata": {
    "tags": []
   },
   "outputs": [
    {
     "output_type": "execute_result",
     "data": {
      "text/plain": [
       "time    252.548261\n",
       "dtype: float64"
      ]
     },
     "metadata": {},
     "execution_count": 181
    }
   ],
   "source": [
    "np.mean(np.abs((corr_real - corr_predict) / corr_real)) * 100\n"
   ]
  },
  {
   "cell_type": "code",
   "execution_count": null,
   "metadata": {},
   "outputs": [],
   "source": []
  }
 ]
}