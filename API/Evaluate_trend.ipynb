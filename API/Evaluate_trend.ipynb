{
 "metadata": {
  "language_info": {
   "codemirror_mode": {
    "name": "ipython",
    "version": 3
   },
   "file_extension": ".py",
   "mimetype": "text/x-python",
   "name": "python",
   "nbconvert_exporter": "python",
   "pygments_lexer": "ipython3",
   "version": "3.7.0-final"
  },
  "orig_nbformat": 2,
  "kernelspec": {
   "name": "python3",
   "display_name": "Python 3.7.0 64-bit",
   "metadata": {
    "interpreter": {
     "hash": "dddbc276755de026ef59667a60cae8244bc070c6d03129960631c9bd95dbf04d"
    }
   }
  }
 },
 "nbformat": 4,
 "nbformat_minor": 2,
 "cells": [
  {
   "cell_type": "code",
   "execution_count": 1,
   "metadata": {},
   "outputs": [],
   "source": [
    "import pandas as pd\n",
    "import numpy as np\n",
    "\n",
    "from sklearn.metrics import accuracy_score\n",
    "\n",
    "from preprocessing import to_dataFrame\n",
    "from Evaluate_model import evaluate_historical\n",
    "from preprocessing import for_evaluate"
   ]
  },
  {
   "cell_type": "code",
   "execution_count": 2,
   "metadata": {},
   "outputs": [
    {
     "output_type": "stream",
     "name": "stdout",
     "text": [
      "[3, 4, 5, 8, 9, 10]\n",
      "--------- Mometum Successful ---------\n",
      "[3, 4, 5, 8, 9, 10]\n",
      "--------- Stochastic oscillator Successful ---------\n",
      "[6, 7, 8, 9, 10]\n",
      "--------- Williams %R Successful ---------\n",
      "[12, 13, 14, 15]\n",
      "--------- Rate of change Successful ---------\n",
      "--------- Weighted Closing Price Successful ---------\n",
      "--------- Accumulation Distribution Line Successful ---------\n",
      "--------- Accumulation Distribution Line Successful ---------\n",
      "--------- Moving Average Convergence/Divergence Successful ---------\n",
      "--------- Commodity Channel Index Successful ---------\n",
      "--------- Bollinger Bands Successful ---------\n",
      "--------- Heikin Ashi Successful ---------\n",
      "[6, 8, 10, 12]\n",
      "--------- Relative Strange index Successful ---------\n",
      "--------- Slope Successful ---------\n"
     ]
    }
   ],
   "source": [
    "data = pd.read_csv(r'save_data\\test.csv')\n",
    "eval = evaluate_historical(data,\"EURUSD\")"
   ]
  },
  {
   "cell_type": "code",
   "execution_count": 3,
   "metadata": {},
   "outputs": [
    {
     "output_type": "stream",
     "name": "stdout",
     "text": [
      "Date\nTime_stamp\nMAE\nR2_SCORE\nSMA_predict\nSMA_true\nSlope_acc\nPredict_ohlc\nSlope_values\n"
     ]
    }
   ],
   "source": [
    "for i in eval:\n",
    "    print(i)"
   ]
  },
  {
   "cell_type": "code",
   "execution_count": 4,
   "metadata": {},
   "outputs": [
    {
     "output_type": "stream",
     "name": "stdout",
     "text": [
      "877 853\n"
     ]
    }
   ],
   "source": [
    "print(len(eval['SMA_predict']),len(eval['SMA_true']))"
   ]
  },
  {
   "cell_type": "code",
   "execution_count": 5,
   "metadata": {},
   "outputs": [],
   "source": [
    "predict = np.array(eval['SMA_predict'])\n",
    "predict = predict[:-24].copy()\n",
    "true = np.array(eval['SMA_true'])"
   ]
  },
  {
   "cell_type": "code",
   "execution_count": 14,
   "metadata": {},
   "outputs": [],
   "source": [
    "def slope_48(targets,predict):\n",
    "    predict_pd = pd.DataFrame(predict)\n",
    "    true_pd = pd.DataFrame(targets)\n",
    "\n",
    "    def calc_slope(x):\n",
    "        # print(np.polyfit(range(len(x)), x, 1))\n",
    "        slope = np.polyfit(range(len(x)), x, 1)[0]\n",
    "        return slope\n",
    "    pre_slope = true_pd.rolling(48).apply(calc_slope,raw=False).values\n",
    "    true_slope = predict_pd.rolling(48).apply(calc_slope,raw=False).values\n",
    "    pred_trend = []\n",
    "    true_trend = []\n",
    "    # print(pre_slope)\n",
    "    for i in range(len(pre_slope)):\n",
    "        if pre_slope[i] >= 0:\n",
    "            pred_trend.append(1)\n",
    "        else:\n",
    "            pred_trend.append(0)\n",
    "    # print(pred_trend)\n",
    "    for i in range(len(true_slope)):\n",
    "        if true_slope[i] >= 0:\n",
    "            true_trend.append(1)\n",
    "        else :\n",
    "            true_trend.append(0)\n",
    "        \n",
    "    return accuracy_score(pred_trend,true_trend)*100"
   ]
  },
  {
   "cell_type": "code",
   "execution_count": 15,
   "metadata": {},
   "outputs": [],
   "source": [
    "def up_down(true,predict):\n",
    "    label_pred = []\n",
    "    label_true = []\n",
    "    for i in range(24,len(true)):\n",
    "        if predict[i] >= predict[i-24]:\n",
    "            label_pred.append(1)\n",
    "        else:\n",
    "            label_pred.append(0)\n",
    "        if true[i] >= true[i-24]:\n",
    "            label_true.append(1)\n",
    "        else:\n",
    "            label_true.append(0)\n",
    "\n",
    "    return accuracy_score(label_true,label_pred)*100"
   ]
  },
  {
   "cell_type": "code",
   "execution_count": 16,
   "metadata": {
    "tags": []
   },
   "outputs": [
    {
     "output_type": "execute_result",
     "data": {
      "text/plain": [
       "67.99531066822978"
      ]
     },
     "metadata": {},
     "execution_count": 16
    }
   ],
   "source": [
    "slope_48(true,predict)"
   ]
  },
  {
   "cell_type": "code",
   "execution_count": 17,
   "metadata": {},
   "outputs": [
    {
     "output_type": "execute_result",
     "data": {
      "text/plain": [
       "57.05669481302774"
      ]
     },
     "metadata": {},
     "execution_count": 17
    }
   ],
   "source": [
    "up_down(true,predict)"
   ]
  }
 ]
}