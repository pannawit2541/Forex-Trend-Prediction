{
 "cells": [
  {
   "cell_type": "code",
   "execution_count": 13,
   "metadata": {},
   "outputs": [],
   "source": [
    "import pandas as pd\n",
    "import numpy as np "
   ]
  },
  {
   "cell_type": "code",
   "execution_count": 14,
   "metadata": {
    "tags": []
   },
   "outputs": [
    {
     "output_type": "stream",
     "name": "stdout",
     "text": [
      "                  open_24  close_24\ndate                               \n11/02/2020 05:00  10868.9   10871.5\n11/02/2020 06:00  10871.5   10871.4\n11/02/2020 07:00  10871.4   10879.2\n11/02/2020 08:00  10879.2   10886.9\n11/02/2020 09:00  10886.9   10882.8\n                     open     high      low    close    MOM_3    MOM_4  \\\ndate                                                                     \n11/02/2020 05:00  1.09093  1.09128  1.09078  1.09122 -0.00017 -0.00017   \n11/02/2020 06:00  1.09122  1.09122  1.09082  1.09111 -0.00024 -0.00028   \n11/02/2020 07:00  1.09112  1.09143  1.09056  1.09142  0.00049  0.00007   \n11/02/2020 08:00  1.09144  1.09152  1.09056  1.09107 -0.00015  0.00014   \n11/02/2020 09:00  1.09107  1.09158  1.09080  1.09136  0.00025  0.00014   \n\n                    MOM_5    MOM_8    MOM_9   MOM_10  ...  bb_bbl_15  \\\ndate                                                  ...              \n11/02/2020 05:00  0.00022  0.00017 -0.00001 -0.00016  ...   1.090592   \n11/02/2020 06:00 -0.00028  0.00004  0.00006 -0.00012  ...   1.090846   \n11/02/2020 07:00  0.00003  0.00041  0.00035  0.00037  ...   1.090856   \n11/02/2020 08:00 -0.00028  0.00007  0.00006  0.00000  ...   1.090866   \n11/02/2020 09:00  0.00043 -0.00003  0.00036  0.00035  ...   1.090866   \n\n                   HA_open  HA_high   HA_low  HA_close      RSI_6      RSI_8  \\\ndate                                                                           \n11/02/2020 05:00  1.091236  1.09128  1.09078  1.091052  41.303833  36.390277   \n11/02/2020 06:00  1.091144  1.09122  1.09082  1.091093  37.622335  34.157196   \n11/02/2020 07:00  1.091118  1.09143  1.09056  1.091133  52.069853  45.022984   \n11/02/2020 08:00  1.091125  1.09152  1.09056  1.091147  39.633040  37.118979   \n11/02/2020 09:00  1.091136  1.09158  1.09080  1.091203  51.217979  46.082251   \n\n                     RSI_10     RSI_12   Slope_6  \ndate                                              \n11/02/2020 05:00  33.899374  32.720693 -0.000009  \n11/02/2020 06:00  32.357528  31.555917 -0.000067  \n11/02/2020 07:00  40.790268  38.307563 -0.000008  \n11/02/2020 08:00  35.273754  34.157499 -0.000001  \n11/02/2020 09:00  42.440363  40.029996  0.000057  \n\n[5 rows x 53 columns]\n"
     ]
    }
   ],
   "source": [
    "file = 'dataset/EURUSD_features.csv'\n",
    "data = pd.read_csv(file)\n",
    "data.set_index('date', inplace=True, drop=True)\n",
    "\n",
    "################################################\n",
    "'''\n",
    "    - 4 years data\n",
    "    - 4 y * 356 d * 24 hr = 34,176\n",
    "\n",
    "'''\n",
    "amounts = 34176\n",
    "#amounts = 5000\n",
    "data = data.tail(amounts+24)\n",
    "data = pd.DataFrame(data=data, dtype=np.float64)\n",
    "##############################################\n",
    "\n",
    "features = data.copy(deep=False)\n",
    "features.drop(features.tail(24).index, inplace=True)\n",
    "features = features.drop(['open_24', 'close_24'], axis=1)\n",
    "\n",
    "labels = data[['open_24', 'close_24']].copy(deep=False)\n",
    "labels = labels.iloc[24:, :]\n",
    "################################################\n",
    "'''\n",
    "    - scale output with 1 pip\n",
    "'''\n",
    "labels = labels*10000\n",
    "################################################\n",
    "\n",
    "\n",
    "labels.reset_index(drop=True, inplace=True)\n",
    "labels.index = features.index\n",
    "print(labels.head())\n",
    "print(features.head())"
   ]
  },
  {
   "cell_type": "code",
   "execution_count": 15,
   "metadata": {},
   "outputs": [],
   "source": [
    "from sklearn.preprocessing import StandardScaler\n",
    "import matplotlib.pyplot as plt\n",
    "from sklearn.datasets import make_regression\n",
    "from sklearn.svm import LinearSVR\n",
    "from sklearn.svm import SVR\n",
    "from sklearn.multioutput import MultiOutputRegressor\n",
    "from sklearn.model_selection import KFold\n",
    "from sklearn.preprocessing import MinMaxScaler\n",
    "\n",
    "from numpy import mean\n",
    "from numpy import std\n",
    "from numpy import absolute\n",
    "from sklearn.metrics import r2_score,mean_squared_error\n",
    "from sklearn.model_selection import train_test_split\n",
    "from sklearn.metrics import mean_absolute_error"
   ]
  },
  {
   "cell_type": "code",
   "execution_count": 16,
   "metadata": {},
   "outputs": [
    {
     "output_type": "stream",
     "name": "stdout",
     "text": [
      "train shape : 198 days || test shape : 10 days\n"
     ]
    }
   ],
   "source": [
    "sc_X = StandardScaler()\n",
    "sc_y = StandardScaler()\n",
    "x = sc_X.fit_transform(features.values)\n",
    "y = sc_y.fit_transform(labels.values)\n",
    "\n",
    "input_train,input_test,output_train,output_test = train_test_split(x,y,test_size=0.05)\n",
    "print(\"train shape : {:.0f}\".format(input_train.shape[0]/24),\"days || test shape : {:.0f}\".format(input_test.shape[0]/24),\"days\")"
   ]
  },
  {
   "cell_type": "code",
   "execution_count": 17,
   "metadata": {
    "tags": []
   },
   "outputs": [
    {
     "output_type": "stream",
     "name": "stdout",
     "text": [
      "K-folds at :  1\n",
      "scores :  0.9747699294489574\n",
      "MAE :  [49.41819499 50.19816489]\n",
      "K-folds at :  2\n"
     ]
    },
    {
     "output_type": "error",
     "ename": "KeyboardInterrupt",
     "evalue": "",
     "traceback": [
      "\u001b[1;31m---------------------------------------------------------------------------\u001b[0m",
      "\u001b[1;31mKeyboardInterrupt\u001b[0m                         Traceback (most recent call last)",
      "\u001b[1;32m<ipython-input-17-0aed9f21e68c>\u001b[0m in \u001b[0;36m<module>\u001b[1;34m\u001b[0m\n\u001b[0;32m     11\u001b[0m         \u001b[0mprint\u001b[0m\u001b[1;33m(\u001b[0m\u001b[1;34m\"K-folds at : \"\u001b[0m\u001b[1;33m,\u001b[0m\u001b[0mi\u001b[0m\u001b[1;33m)\u001b[0m\u001b[1;33m\u001b[0m\u001b[0m\n\u001b[0;32m     12\u001b[0m         \u001b[0mX_train\u001b[0m\u001b[1;33m,\u001b[0m \u001b[0mX_test\u001b[0m\u001b[1;33m,\u001b[0m \u001b[0my_train\u001b[0m\u001b[1;33m,\u001b[0m \u001b[0my_test\u001b[0m \u001b[1;33m=\u001b[0m \u001b[0minput_train\u001b[0m\u001b[1;33m[\u001b[0m\u001b[0mtrain_index\u001b[0m\u001b[1;33m]\u001b[0m\u001b[1;33m,\u001b[0m \u001b[0minput_train\u001b[0m\u001b[1;33m[\u001b[0m\u001b[0mtest_index\u001b[0m\u001b[1;33m]\u001b[0m\u001b[1;33m,\u001b[0m \u001b[0moutput_train\u001b[0m\u001b[1;33m[\u001b[0m\u001b[0mtrain_index\u001b[0m\u001b[1;33m]\u001b[0m\u001b[1;33m,\u001b[0m \u001b[0moutput_train\u001b[0m\u001b[1;33m[\u001b[0m\u001b[0mtest_index\u001b[0m\u001b[1;33m]\u001b[0m\u001b[1;33m\u001b[0m\u001b[0m\n\u001b[1;32m---> 13\u001b[1;33m         \u001b[0mbest_svr\u001b[0m\u001b[1;33m.\u001b[0m\u001b[0mfit\u001b[0m\u001b[1;33m(\u001b[0m\u001b[0mX_train\u001b[0m\u001b[1;33m,\u001b[0m \u001b[0my_train\u001b[0m\u001b[1;33m)\u001b[0m\u001b[1;33m\u001b[0m\u001b[0m\n\u001b[0m\u001b[0;32m     14\u001b[0m \u001b[1;33m\u001b[0m\u001b[0m\n\u001b[0;32m     15\u001b[0m         '''\n",
      "\u001b[1;32m~\\AppData\\Local\\Programs\\Python\\Python37\\lib\\site-packages\\sklearn\\multioutput.py\u001b[0m in \u001b[0;36mfit\u001b[1;34m(self, X, y, sample_weight, **fit_params)\u001b[0m\n\u001b[0;32m    174\u001b[0m                 \u001b[0mself\u001b[0m\u001b[1;33m.\u001b[0m\u001b[0mestimator\u001b[0m\u001b[1;33m,\u001b[0m \u001b[0mX\u001b[0m\u001b[1;33m,\u001b[0m \u001b[0my\u001b[0m\u001b[1;33m[\u001b[0m\u001b[1;33m:\u001b[0m\u001b[1;33m,\u001b[0m \u001b[0mi\u001b[0m\u001b[1;33m]\u001b[0m\u001b[1;33m,\u001b[0m \u001b[0msample_weight\u001b[0m\u001b[1;33m,\u001b[0m\u001b[1;33m\u001b[0m\u001b[0m\n\u001b[0;32m    175\u001b[0m                 **fit_params_validated)\n\u001b[1;32m--> 176\u001b[1;33m             for i in range(y.shape[1]))\n\u001b[0m\u001b[0;32m    177\u001b[0m         \u001b[1;32mreturn\u001b[0m \u001b[0mself\u001b[0m\u001b[1;33m\u001b[0m\u001b[0m\n\u001b[0;32m    178\u001b[0m \u001b[1;33m\u001b[0m\u001b[0m\n",
      "\u001b[1;32m~\\AppData\\Local\\Programs\\Python\\Python37\\lib\\site-packages\\joblib\\parallel.py\u001b[0m in \u001b[0;36m__call__\u001b[1;34m(self, iterable)\u001b[0m\n\u001b[0;32m   1030\u001b[0m                 \u001b[0mself\u001b[0m\u001b[1;33m.\u001b[0m\u001b[0m_iterating\u001b[0m \u001b[1;33m=\u001b[0m \u001b[0mself\u001b[0m\u001b[1;33m.\u001b[0m\u001b[0m_original_iterator\u001b[0m \u001b[1;32mis\u001b[0m \u001b[1;32mnot\u001b[0m \u001b[1;32mNone\u001b[0m\u001b[1;33m\u001b[0m\u001b[0m\n\u001b[0;32m   1031\u001b[0m \u001b[1;33m\u001b[0m\u001b[0m\n\u001b[1;32m-> 1032\u001b[1;33m             \u001b[1;32mwhile\u001b[0m \u001b[0mself\u001b[0m\u001b[1;33m.\u001b[0m\u001b[0mdispatch_one_batch\u001b[0m\u001b[1;33m(\u001b[0m\u001b[0miterator\u001b[0m\u001b[1;33m)\u001b[0m\u001b[1;33m:\u001b[0m\u001b[1;33m\u001b[0m\u001b[0m\n\u001b[0m\u001b[0;32m   1033\u001b[0m                 \u001b[1;32mpass\u001b[0m\u001b[1;33m\u001b[0m\u001b[0m\n\u001b[0;32m   1034\u001b[0m \u001b[1;33m\u001b[0m\u001b[0m\n",
      "\u001b[1;32m~\\AppData\\Local\\Programs\\Python\\Python37\\lib\\site-packages\\joblib\\parallel.py\u001b[0m in \u001b[0;36mdispatch_one_batch\u001b[1;34m(self, iterator)\u001b[0m\n\u001b[0;32m    845\u001b[0m                 \u001b[1;32mreturn\u001b[0m \u001b[1;32mFalse\u001b[0m\u001b[1;33m\u001b[0m\u001b[0m\n\u001b[0;32m    846\u001b[0m             \u001b[1;32melse\u001b[0m\u001b[1;33m:\u001b[0m\u001b[1;33m\u001b[0m\u001b[0m\n\u001b[1;32m--> 847\u001b[1;33m                 \u001b[0mself\u001b[0m\u001b[1;33m.\u001b[0m\u001b[0m_dispatch\u001b[0m\u001b[1;33m(\u001b[0m\u001b[0mtasks\u001b[0m\u001b[1;33m)\u001b[0m\u001b[1;33m\u001b[0m\u001b[0m\n\u001b[0m\u001b[0;32m    848\u001b[0m                 \u001b[1;32mreturn\u001b[0m \u001b[1;32mTrue\u001b[0m\u001b[1;33m\u001b[0m\u001b[0m\n\u001b[0;32m    849\u001b[0m \u001b[1;33m\u001b[0m\u001b[0m\n",
      "\u001b[1;32m~\\AppData\\Local\\Programs\\Python\\Python37\\lib\\site-packages\\joblib\\parallel.py\u001b[0m in \u001b[0;36m_dispatch\u001b[1;34m(self, batch)\u001b[0m\n\u001b[0;32m    763\u001b[0m         \u001b[1;32mwith\u001b[0m \u001b[0mself\u001b[0m\u001b[1;33m.\u001b[0m\u001b[0m_lock\u001b[0m\u001b[1;33m:\u001b[0m\u001b[1;33m\u001b[0m\u001b[0m\n\u001b[0;32m    764\u001b[0m             \u001b[0mjob_idx\u001b[0m \u001b[1;33m=\u001b[0m \u001b[0mlen\u001b[0m\u001b[1;33m(\u001b[0m\u001b[0mself\u001b[0m\u001b[1;33m.\u001b[0m\u001b[0m_jobs\u001b[0m\u001b[1;33m)\u001b[0m\u001b[1;33m\u001b[0m\u001b[0m\n\u001b[1;32m--> 765\u001b[1;33m             \u001b[0mjob\u001b[0m \u001b[1;33m=\u001b[0m \u001b[0mself\u001b[0m\u001b[1;33m.\u001b[0m\u001b[0m_backend\u001b[0m\u001b[1;33m.\u001b[0m\u001b[0mapply_async\u001b[0m\u001b[1;33m(\u001b[0m\u001b[0mbatch\u001b[0m\u001b[1;33m,\u001b[0m \u001b[0mcallback\u001b[0m\u001b[1;33m=\u001b[0m\u001b[0mcb\u001b[0m\u001b[1;33m)\u001b[0m\u001b[1;33m\u001b[0m\u001b[0m\n\u001b[0m\u001b[0;32m    766\u001b[0m             \u001b[1;31m# A job can complete so quickly than its callback is\u001b[0m\u001b[1;33m\u001b[0m\u001b[1;33m\u001b[0m\u001b[0m\n\u001b[0;32m    767\u001b[0m             \u001b[1;31m# called before we get here, causing self._jobs to\u001b[0m\u001b[1;33m\u001b[0m\u001b[1;33m\u001b[0m\u001b[0m\n",
      "\u001b[1;32m~\\AppData\\Local\\Programs\\Python\\Python37\\lib\\site-packages\\joblib\\_parallel_backends.py\u001b[0m in \u001b[0;36mapply_async\u001b[1;34m(self, func, callback)\u001b[0m\n\u001b[0;32m    206\u001b[0m     \u001b[1;32mdef\u001b[0m \u001b[0mapply_async\u001b[0m\u001b[1;33m(\u001b[0m\u001b[0mself\u001b[0m\u001b[1;33m,\u001b[0m \u001b[0mfunc\u001b[0m\u001b[1;33m,\u001b[0m \u001b[0mcallback\u001b[0m\u001b[1;33m=\u001b[0m\u001b[1;32mNone\u001b[0m\u001b[1;33m)\u001b[0m\u001b[1;33m:\u001b[0m\u001b[1;33m\u001b[0m\u001b[0m\n\u001b[0;32m    207\u001b[0m         \u001b[1;34m\"\"\"Schedule a func to be run\"\"\"\u001b[0m\u001b[1;33m\u001b[0m\u001b[0m\n\u001b[1;32m--> 208\u001b[1;33m         \u001b[0mresult\u001b[0m \u001b[1;33m=\u001b[0m \u001b[0mImmediateResult\u001b[0m\u001b[1;33m(\u001b[0m\u001b[0mfunc\u001b[0m\u001b[1;33m)\u001b[0m\u001b[1;33m\u001b[0m\u001b[0m\n\u001b[0m\u001b[0;32m    209\u001b[0m         \u001b[1;32mif\u001b[0m \u001b[0mcallback\u001b[0m\u001b[1;33m:\u001b[0m\u001b[1;33m\u001b[0m\u001b[0m\n\u001b[0;32m    210\u001b[0m             \u001b[0mcallback\u001b[0m\u001b[1;33m(\u001b[0m\u001b[0mresult\u001b[0m\u001b[1;33m)\u001b[0m\u001b[1;33m\u001b[0m\u001b[0m\n",
      "\u001b[1;32m~\\AppData\\Local\\Programs\\Python\\Python37\\lib\\site-packages\\joblib\\_parallel_backends.py\u001b[0m in \u001b[0;36m__init__\u001b[1;34m(self, batch)\u001b[0m\n\u001b[0;32m    570\u001b[0m         \u001b[1;31m# Don't delay the application, to avoid keeping the input\u001b[0m\u001b[1;33m\u001b[0m\u001b[1;33m\u001b[0m\u001b[0m\n\u001b[0;32m    571\u001b[0m         \u001b[1;31m# arguments in memory\u001b[0m\u001b[1;33m\u001b[0m\u001b[1;33m\u001b[0m\u001b[0m\n\u001b[1;32m--> 572\u001b[1;33m         \u001b[0mself\u001b[0m\u001b[1;33m.\u001b[0m\u001b[0mresults\u001b[0m \u001b[1;33m=\u001b[0m \u001b[0mbatch\u001b[0m\u001b[1;33m(\u001b[0m\u001b[1;33m)\u001b[0m\u001b[1;33m\u001b[0m\u001b[0m\n\u001b[0m\u001b[0;32m    573\u001b[0m \u001b[1;33m\u001b[0m\u001b[0m\n\u001b[0;32m    574\u001b[0m     \u001b[1;32mdef\u001b[0m \u001b[0mget\u001b[0m\u001b[1;33m(\u001b[0m\u001b[0mself\u001b[0m\u001b[1;33m)\u001b[0m\u001b[1;33m:\u001b[0m\u001b[1;33m\u001b[0m\u001b[0m\n",
      "\u001b[1;32m~\\AppData\\Local\\Programs\\Python\\Python37\\lib\\site-packages\\joblib\\parallel.py\u001b[0m in \u001b[0;36m__call__\u001b[1;34m(self)\u001b[0m\n\u001b[0;32m    251\u001b[0m         \u001b[1;32mwith\u001b[0m \u001b[0mparallel_backend\u001b[0m\u001b[1;33m(\u001b[0m\u001b[0mself\u001b[0m\u001b[1;33m.\u001b[0m\u001b[0m_backend\u001b[0m\u001b[1;33m,\u001b[0m \u001b[0mn_jobs\u001b[0m\u001b[1;33m=\u001b[0m\u001b[0mself\u001b[0m\u001b[1;33m.\u001b[0m\u001b[0m_n_jobs\u001b[0m\u001b[1;33m)\u001b[0m\u001b[1;33m:\u001b[0m\u001b[1;33m\u001b[0m\u001b[0m\n\u001b[0;32m    252\u001b[0m             return [func(*args, **kwargs)\n\u001b[1;32m--> 253\u001b[1;33m                     for func, args, kwargs in self.items]\n\u001b[0m\u001b[0;32m    254\u001b[0m \u001b[1;33m\u001b[0m\u001b[0m\n\u001b[0;32m    255\u001b[0m     \u001b[1;32mdef\u001b[0m \u001b[0m__reduce__\u001b[0m\u001b[1;33m(\u001b[0m\u001b[0mself\u001b[0m\u001b[1;33m)\u001b[0m\u001b[1;33m:\u001b[0m\u001b[1;33m\u001b[0m\u001b[0m\n",
      "\u001b[1;32m~\\AppData\\Local\\Programs\\Python\\Python37\\lib\\site-packages\\joblib\\parallel.py\u001b[0m in \u001b[0;36m<listcomp>\u001b[1;34m(.0)\u001b[0m\n\u001b[0;32m    251\u001b[0m         \u001b[1;32mwith\u001b[0m \u001b[0mparallel_backend\u001b[0m\u001b[1;33m(\u001b[0m\u001b[0mself\u001b[0m\u001b[1;33m.\u001b[0m\u001b[0m_backend\u001b[0m\u001b[1;33m,\u001b[0m \u001b[0mn_jobs\u001b[0m\u001b[1;33m=\u001b[0m\u001b[0mself\u001b[0m\u001b[1;33m.\u001b[0m\u001b[0m_n_jobs\u001b[0m\u001b[1;33m)\u001b[0m\u001b[1;33m:\u001b[0m\u001b[1;33m\u001b[0m\u001b[0m\n\u001b[0;32m    252\u001b[0m             return [func(*args, **kwargs)\n\u001b[1;32m--> 253\u001b[1;33m                     for func, args, kwargs in self.items]\n\u001b[0m\u001b[0;32m    254\u001b[0m \u001b[1;33m\u001b[0m\u001b[0m\n\u001b[0;32m    255\u001b[0m     \u001b[1;32mdef\u001b[0m \u001b[0m__reduce__\u001b[0m\u001b[1;33m(\u001b[0m\u001b[0mself\u001b[0m\u001b[1;33m)\u001b[0m\u001b[1;33m:\u001b[0m\u001b[1;33m\u001b[0m\u001b[0m\n",
      "\u001b[1;32m~\\AppData\\Local\\Programs\\Python\\Python37\\lib\\site-packages\\sklearn\\multioutput.py\u001b[0m in \u001b[0;36m_fit_estimator\u001b[1;34m(estimator, X, y, sample_weight, **fit_params)\u001b[0m\n\u001b[0;32m     39\u001b[0m         \u001b[0mestimator\u001b[0m\u001b[1;33m.\u001b[0m\u001b[0mfit\u001b[0m\u001b[1;33m(\u001b[0m\u001b[0mX\u001b[0m\u001b[1;33m,\u001b[0m \u001b[0my\u001b[0m\u001b[1;33m,\u001b[0m \u001b[0msample_weight\u001b[0m\u001b[1;33m=\u001b[0m\u001b[0msample_weight\u001b[0m\u001b[1;33m,\u001b[0m \u001b[1;33m**\u001b[0m\u001b[0mfit_params\u001b[0m\u001b[1;33m)\u001b[0m\u001b[1;33m\u001b[0m\u001b[0m\n\u001b[0;32m     40\u001b[0m     \u001b[1;32melse\u001b[0m\u001b[1;33m:\u001b[0m\u001b[1;33m\u001b[0m\u001b[0m\n\u001b[1;32m---> 41\u001b[1;33m         \u001b[0mestimator\u001b[0m\u001b[1;33m.\u001b[0m\u001b[0mfit\u001b[0m\u001b[1;33m(\u001b[0m\u001b[0mX\u001b[0m\u001b[1;33m,\u001b[0m \u001b[0my\u001b[0m\u001b[1;33m,\u001b[0m \u001b[1;33m**\u001b[0m\u001b[0mfit_params\u001b[0m\u001b[1;33m)\u001b[0m\u001b[1;33m\u001b[0m\u001b[0m\n\u001b[0m\u001b[0;32m     42\u001b[0m     \u001b[1;32mreturn\u001b[0m \u001b[0mestimator\u001b[0m\u001b[1;33m\u001b[0m\u001b[0m\n\u001b[0;32m     43\u001b[0m \u001b[1;33m\u001b[0m\u001b[0m\n",
      "\u001b[1;32m~\\AppData\\Local\\Programs\\Python\\Python37\\lib\\site-packages\\sklearn\\svm\\_base.py\u001b[0m in \u001b[0;36mfit\u001b[1;34m(self, X, y, sample_weight)\u001b[0m\n\u001b[0;32m    215\u001b[0m \u001b[1;33m\u001b[0m\u001b[0m\n\u001b[0;32m    216\u001b[0m         \u001b[0mseed\u001b[0m \u001b[1;33m=\u001b[0m \u001b[0mrnd\u001b[0m\u001b[1;33m.\u001b[0m\u001b[0mrandint\u001b[0m\u001b[1;33m(\u001b[0m\u001b[0mnp\u001b[0m\u001b[1;33m.\u001b[0m\u001b[0miinfo\u001b[0m\u001b[1;33m(\u001b[0m\u001b[1;34m'i'\u001b[0m\u001b[1;33m)\u001b[0m\u001b[1;33m.\u001b[0m\u001b[0mmax\u001b[0m\u001b[1;33m)\u001b[0m\u001b[1;33m\u001b[0m\u001b[0m\n\u001b[1;32m--> 217\u001b[1;33m         \u001b[0mfit\u001b[0m\u001b[1;33m(\u001b[0m\u001b[0mX\u001b[0m\u001b[1;33m,\u001b[0m \u001b[0my\u001b[0m\u001b[1;33m,\u001b[0m \u001b[0msample_weight\u001b[0m\u001b[1;33m,\u001b[0m \u001b[0msolver_type\u001b[0m\u001b[1;33m,\u001b[0m \u001b[0mkernel\u001b[0m\u001b[1;33m,\u001b[0m \u001b[0mrandom_seed\u001b[0m\u001b[1;33m=\u001b[0m\u001b[0mseed\u001b[0m\u001b[1;33m)\u001b[0m\u001b[1;33m\u001b[0m\u001b[0m\n\u001b[0m\u001b[0;32m    218\u001b[0m         \u001b[1;31m# see comment on the other call to np.iinfo in this file\u001b[0m\u001b[1;33m\u001b[0m\u001b[1;33m\u001b[0m\u001b[0m\n\u001b[0;32m    219\u001b[0m \u001b[1;33m\u001b[0m\u001b[0m\n",
      "\u001b[1;32m~\\AppData\\Local\\Programs\\Python\\Python37\\lib\\site-packages\\sklearn\\svm\\_base.py\u001b[0m in \u001b[0;36m_dense_fit\u001b[1;34m(self, X, y, sample_weight, solver_type, kernel, random_seed)\u001b[0m\n\u001b[0;32m    274\u001b[0m                 \u001b[0mcache_size\u001b[0m\u001b[1;33m=\u001b[0m\u001b[0mself\u001b[0m\u001b[1;33m.\u001b[0m\u001b[0mcache_size\u001b[0m\u001b[1;33m,\u001b[0m \u001b[0mcoef0\u001b[0m\u001b[1;33m=\u001b[0m\u001b[0mself\u001b[0m\u001b[1;33m.\u001b[0m\u001b[0mcoef0\u001b[0m\u001b[1;33m,\u001b[0m\u001b[1;33m\u001b[0m\u001b[0m\n\u001b[0;32m    275\u001b[0m                 \u001b[0mgamma\u001b[0m\u001b[1;33m=\u001b[0m\u001b[0mself\u001b[0m\u001b[1;33m.\u001b[0m\u001b[0m_gamma\u001b[0m\u001b[1;33m,\u001b[0m \u001b[0mepsilon\u001b[0m\u001b[1;33m=\u001b[0m\u001b[0mself\u001b[0m\u001b[1;33m.\u001b[0m\u001b[0mepsilon\u001b[0m\u001b[1;33m,\u001b[0m\u001b[1;33m\u001b[0m\u001b[0m\n\u001b[1;32m--> 276\u001b[1;33m                 max_iter=self.max_iter, random_seed=random_seed)\n\u001b[0m\u001b[0;32m    277\u001b[0m \u001b[1;33m\u001b[0m\u001b[0m\n\u001b[0;32m    278\u001b[0m         \u001b[0mself\u001b[0m\u001b[1;33m.\u001b[0m\u001b[0m_warn_from_fit_status\u001b[0m\u001b[1;33m(\u001b[0m\u001b[1;33m)\u001b[0m\u001b[1;33m\u001b[0m\u001b[0m\n",
      "\u001b[1;31mKeyboardInterrupt\u001b[0m: "
     ]
    }
   ],
   "source": [
    "\n",
    "import joblib # save model\n",
    "filename = 'model/EURUSD_SVR.joblib'\n",
    "\n",
    "model = SVR(kernel='rbf',gamma='auto',C=25,epsilon=0.0001)\n",
    "\n",
    "best_svr = MultiOutputRegressor(model)\n",
    "cv = KFold(n_splits=10,shuffle=False)\n",
    "scores = []\n",
    "i = 1\n",
    "for train_index, test_index in cv.split(input_train):\n",
    "        print(\"K-folds at : \",i)\n",
    "        X_train, X_test, y_train, y_test = input_train[train_index], input_train[test_index], output_train[train_index], output_train[test_index]\n",
    "        best_svr.fit(X_train, y_train)\n",
    "        \n",
    "        '''\n",
    "                - Cross validate \n",
    "        '''\n",
    "        scores.append(best_svr.score(X_test, y_test))\n",
    "        print(\"scores : \",best_svr.score(X_test, y_test))\n",
    "\n",
    "        '''\n",
    "                - MAE\n",
    "        '''\n",
    "        yhat = best_svr.predict(X_test)\n",
    "        yhat = sc_y.inverse_transform(yhat)\n",
    "        y_test = sc_y.inverse_transform(y_test)\n",
    "        print(\"MAE : \",mean_absolute_error(y_test, yhat, multioutput='raw_values'))\n",
    "        joblib.dump(best_svr, filename)\n",
    "        i+=1\n",
    "\n"
   ]
  },
  {
   "cell_type": "code",
   "execution_count": 11,
   "metadata": {},
   "outputs": [
    {
     "output_type": "stream",
     "name": "stdout",
     "text": [
      "Crossvalidation score : 0.6378515368198225\nAbs_err =  -0.9137122381874064\nmse =  5.972274090343993\nsqrt(mse) =  244.38236618757895\nPips err =  219.77892228115374 \n\n"
     ]
    }
   ],
   "source": [
    "yhat = best_svr.predict(input_test)\n",
    "yhat = sc_y.inverse_transform(yhat)\n",
    "y_test = sc_y.inverse_transform(output_test)\n",
    "mse = mean_squared_error(y_test,yhat)\n",
    "sum_err = []\n",
    "\n",
    "for i in range(len(y_test)):\n",
    "    err = abs(y_test[i]-yhat[i])\n",
    "    sum_err.append(err)\n",
    "    #print(i,\"-> Pre \",yhat[i],\" vs Acc\",y_test[i],\" err = \",err)\n",
    "print(\"Crossvalidation score :\",np.mean(scores))\n",
    "print(\"Abs_err = \",r2_score(yhat,y_test))\n",
    "print(\"mse = \",mse/10000)\n",
    "print(\"sqrt(mse) = \",np.sqrt(mse))\n",
    "print(\"Pips err = \",mean(sum_err),\"\\n\")"
   ]
  },
  {
   "cell_type": "code",
   "execution_count": 7,
   "metadata": {},
   "outputs": [
    {
     "output_type": "stream",
     "name": "stdout",
     "text": [
      "[[-4.24586314e-01 -3.96555916e-01]\n [-1.10342552e+00 -1.09416299e+00]\n [ 1.11158891e+00  1.09566505e+00]\n [-6.52795051e-02 -8.23970996e-02]\n [ 6.71269712e-01  6.76198691e-01]\n [ 1.16993440e+00  1.19862584e+00]\n [-2.10190809e-01 -2.16932016e-01]\n [ 8.14954919e-01  8.03190356e-01]\n [ 1.23168695e+00  1.23764702e+00]\n [-1.06485943e+00 -1.07327627e+00]\n [-1.10229334e+00 -1.05268266e+00]\n [-1.33035911e+00 -1.35777142e+00]\n [ 8.45994815e-01  8.25706464e-01]\n [ 1.23471843e+00  1.22081570e+00]\n [ 9.45764687e-01  9.50139387e-01]\n [ 1.01021365e+00  1.02758680e+00]\n [ 9.62523537e-01  9.62920576e-01]\n [-1.34204551e+00 -1.31329482e+00]\n [-1.67867329e+00 -1.76668295e+00]\n [ 8.64498724e-01  8.59472898e-01]\n [ 2.45825684e-01  2.25444938e-01]\n [-1.39191428e+00 -1.40136489e+00]\n [-1.13950569e+00 -1.13748796e+00]\n [ 9.96879800e-01  1.00601511e+00]\n [-1.56955239e-01 -1.60785462e-01]\n [ 1.06444769e+00  1.06180773e+00]\n [ 1.24020707e+00  1.23180658e+00]\n [-8.08988141e-02 -8.19060853e-02]\n [ 1.17979099e+00  1.19746744e+00]\n [-1.38794126e+00 -1.40334373e+00]\n [-1.12597169e+00 -1.11919078e+00]\n [ 1.27728197e+00  1.20876764e+00]\n [-1.38665399e+00 -1.39015405e+00]\n [ 1.11357782e+00  1.12911345e+00]\n [ 1.10674157e+00  1.10846175e+00]\n [ 1.03745393e+00  9.82196440e-01]\n [ 8.32518595e-01  8.18051047e-01]\n [-4.41341352e-01 -4.50324696e-01]\n [-4.26468170e-01 -4.01302226e-01]\n [ 9.51424297e-01  9.80610764e-01]\n [ 1.18301837e+00  1.16111935e+00]\n [ 1.16376121e+00  1.14471999e+00]\n [-3.98558761e-01 -4.87224578e-01]\n [-1.38603563e-01 -1.24368940e-01]\n [-9.76574878e-01 -9.72531575e-01]\n [-1.95944702e-01 -1.82074380e-01]\n [-1.29996795e+00 -1.28505514e+00]\n [ 6.74254636e-01  6.41619440e-01]\n [-4.05904964e-01 -3.62113428e-01]\n [ 1.22267100e+00  1.19920537e+00]\n [ 1.03897986e+00  1.07095248e+00]\n [-9.38175579e-01 -9.39671728e-01]\n [-1.29110121e+00 -1.20977691e+00]\n [ 1.06954989e+00  1.08464558e+00]\n [-1.07721613e+00 -1.07686266e+00]\n [ 1.13799790e+00  1.13698015e+00]\n [ 1.00170572e+00  1.03689551e+00]\n [-3.15346321e-01 -3.01935095e-01]\n [-8.55171818e-01 -9.09003543e-01]\n [ 1.06959494e+00  1.07904036e+00]\n [ 8.62086557e-01  8.73878284e-01]\n [-1.03471456e+00 -1.04875948e+00]\n [ 8.88110500e-02  9.58892593e-02]\n [-1.20403830e+00 -1.34862590e+00]\n [ 6.67048733e-01  7.90801342e-01]\n [ 8.46806953e-01  8.54276568e-01]\n [ 6.82798331e-01  6.98101556e-01]\n [ 1.10486184e+00  1.10861977e+00]\n [-8.02926135e-01 -7.62741480e-01]\n [-1.37218557e+00 -1.36108770e+00]\n [-4.63883084e-01 -5.66675198e-01]\n [ 7.08813066e-01  7.10578470e-01]\n [ 1.11181595e+00  1.10550637e+00]\n [ 7.45373167e-01  7.30047453e-01]\n [ 9.38122485e-01  9.41563504e-01]\n [-1.23827314e+00 -1.22673624e+00]\n [ 8.62171449e-01  8.10703213e-01]\n [ 7.06425506e-01  7.22848058e-01]\n [-1.03076167e+00 -1.01695620e+00]\n [-1.36062854e+00 -1.53331193e+00]\n [-1.18960831e+00 -1.22591253e+00]\n [-1.17972472e+00 -1.20397728e+00]\n [ 9.56588293e-01  9.36530356e-01]\n [-2.73376849e-01 -2.94451511e-01]\n [-1.41492195e+00 -1.35825743e+00]\n [ 1.17011877e+00  1.14845209e+00]\n [-1.23824356e+00 -1.23185280e+00]\n [ 1.05202295e+00  1.05141436e+00]\n [ 7.60554290e-01  7.24250305e-01]\n [ 1.12359883e+00  1.13491155e+00]\n [-3.04976537e-01 -2.90251317e-01]\n [-1.28182927e+00 -1.28842110e+00]\n [ 8.09162854e-01  8.31388221e-01]\n [-3.48479692e-01 -3.61701661e-01]\n [ 8.16357648e-01  7.95708587e-01]\n [ 1.26239377e+00  1.28185557e+00]\n [-1.45346186e+00 -1.49679690e+00]\n [ 1.00808585e+00  9.60258301e-01]\n [-1.38020414e+00 -1.38943099e+00]\n [-8.24206176e-01 -8.82304801e-01]\n [-1.18784642e+00 -1.18004318e+00]\n [-6.29078358e-01 -6.05105232e-01]\n [ 1.06519703e+00  1.04578522e+00]\n [-6.15275467e-01 -5.47561438e-01]\n [-1.41551631e+00 -1.37849056e+00]\n [ 1.15241292e+00  1.16182644e+00]\n [ 1.04240469e+00  9.99256813e-01]\n [ 1.10555042e+00  1.10449339e+00]\n [ 1.21861974e+00  1.23856401e+00]\n [-1.41312383e+00 -1.41022556e+00]\n [-3.30174814e-01 -3.59635594e-01]\n [ 8.78140403e-01  8.77697029e-01]\n [-8.68979439e-01 -8.99198676e-01]\n [-1.03304095e+00 -1.00929337e+00]\n [-1.01794212e-01 -8.90415453e-02]\n [ 7.09514350e-01  6.87758305e-01]\n [-9.54770775e-01 -1.00848409e+00]\n [ 1.22764319e+00  1.22284200e+00]\n [-3.73611612e-01 -3.89398207e-01]\n [ 9.63490284e-01  9.57954090e-01]\n [-3.96680151e-01 -4.20666206e-01]\n [-3.21669672e-01 -3.39581161e-01]\n [-1.19939608e+00 -1.21755740e+00]\n [ 1.17576930e+00  1.19638446e+00]\n [-1.25396667e+00 -1.24940309e+00]\n [ 9.44769526e-01  1.03345282e+00]\n [-1.25965217e+00 -1.28427292e+00]\n [ 1.22236941e+00  1.21013192e+00]\n [-1.22027637e+00 -1.20455287e+00]\n [-1.28099923e+00 -1.24041614e+00]\n [-1.19419446e+00 -1.20593004e+00]\n [ 2.30466433e-01  2.46559402e-01]\n [-1.31450643e+00 -1.30726019e+00]\n [ 1.11151652e+00  1.11223466e+00]\n [-1.31320780e+00 -1.25958118e+00]\n [ 6.99671667e-01  6.74001999e-01]\n [-4.04084729e-01 -4.57219420e-01]\n [ 1.13562021e+00  1.13370932e+00]\n [-8.36653992e-02 -7.12470728e-02]\n [-2.18865985e-01 -2.17785378e-01]\n [ 9.63372405e-01  9.41028508e-01]\n [ 1.09209875e+00  1.08790602e+00]\n [-3.40090587e-01 -3.69517734e-01]\n [ 1.12894659e+00  1.11433516e+00]\n [ 1.14683039e+00  1.14337408e+00]\n [-4.97789432e-01 -4.63245882e-01]\n [-4.12220685e-01 -2.80736103e-01]\n [ 1.24111552e+00  1.25339582e+00]\n [ 9.92020235e-01  9.69010397e-01]\n [-1.07137732e+00 -1.06251801e+00]\n [ 1.03559846e+00  1.03678031e+00]\n [ 8.94907812e-01  8.80262671e-01]\n [-1.09659225e+00 -1.10388243e+00]\n [-1.27656948e+00 -1.26842926e+00]\n [-8.03026891e-01 -8.12866068e-01]\n [-2.47868521e-01 -2.39605510e-01]\n [ 1.07405646e+00  1.05796792e+00]\n [ 7.88137555e-01  8.35145245e-01]\n [ 8.43278262e-01  8.70370329e-01]\n [-5.52716812e-01 -5.95751333e-01]\n [ 7.33198200e-01  7.17219399e-01]\n [ 1.05179607e+00  1.07056952e+00]\n [-1.59804429e+00 -1.63518760e+00]\n [-1.71579485e-01 -1.68310406e-01]\n [ 1.21747817e+00  1.21359265e+00]\n [-2.47779289e-01 -2.49235477e-01]\n [ 1.04391042e+00  1.04759485e+00]\n [ 1.23010196e+00  1.23313907e+00]\n [-1.31377586e+00 -1.33533661e+00]\n [-2.66258526e-01 -2.69596288e-01]\n [-4.35287028e-01 -4.34598320e-01]\n [-1.16974559e+00 -1.18548414e+00]\n [-1.09248414e+00 -1.19482058e+00]\n [-1.38804043e+00 -1.39731265e+00]\n [-1.33887090e+00 -1.34066979e+00]\n [-1.32932195e+00 -1.37297950e+00]\n [ 9.93433298e-01  9.80630717e-01]\n [ 1.26296495e+00  1.24165630e+00]\n [-3.86910175e-01 -4.49413076e-01]\n [ 1.05161619e+00  1.04582475e+00]\n [ 6.25494091e-01  6.12406167e-01]\n [ 7.69227448e-01  7.42457889e-01]\n [-2.60899313e-01 -2.51211355e-01]\n [-1.15586172e+00 -1.15273062e+00]\n [ 1.06809922e+00  1.06393257e+00]\n [ 1.23185404e+00  1.21858227e+00]\n [-1.11237849e+00 -1.11660056e+00]\n [-1.19308084e-01 -1.19735076e-01]\n [ 2.22880603e-01  1.81002914e-01]\n [ 7.23549042e-01  7.23971865e-01]\n [-1.33148404e+00 -1.36805569e+00]\n [-2.92185958e-01 -2.82006573e-01]\n [-1.30107875e+00 -1.25438369e+00]\n [-3.50942884e-01 -3.20333578e-01]\n [ 7.47926037e-01  7.43029899e-01]\n [-9.92524683e-01 -1.00313231e+00]\n [ 1.12726611e+00  1.11746973e+00]\n [ 9.78430940e-01  9.65318100e-01]\n [-1.13866674e+00 -1.16566606e+00]\n [ 8.81932411e-01  8.76960899e-01]\n [ 1.10453861e+00  1.05060269e+00]\n [ 1.08116470e+00  1.10294858e+00]\n [-1.11171261e+00 -1.11070693e+00]\n [ 1.11413474e+00  1.12910251e+00]\n [ 1.12982818e+00  1.13815180e+00]\n [-2.56043009e-01 -2.77696097e-01]\n [-7.99972940e-01 -8.01828363e-01]\n [ 1.06600860e+00  1.04697626e+00]\n [ 9.36060647e-01  9.34586413e-01]\n [ 1.21422390e+00  1.22158524e+00]\n [-1.05424908e+00 -1.05524730e+00]\n [ 8.15954448e-01  8.17658868e-01]\n [-2.45094683e-01 -2.66198007e-01]\n [-1.41861184e+00 -1.38153256e+00]\n [-1.02395582e+00 -1.07545330e+00]\n [ 9.27770089e-01  9.47686613e-01]\n [-1.18758961e+00 -1.20683364e+00]\n [-1.73792932e-01 -1.54893009e-01]\n [ 1.09138189e+00  1.05994915e+00]\n [ 8.65544282e-01  8.72732052e-01]\n [ 9.09201871e-01  9.24771511e-01]\n [ 1.27433805e+00  1.26324367e+00]\n [-1.21636673e+00 -1.23888255e+00]\n [-1.17516629e+00 -1.12805201e+00]\n [ 9.48274893e-01  9.50116220e-01]\n [-4.14895098e-01 -4.47608480e-01]\n [-3.08505483e-01 -2.73258077e-01]\n [-1.41650104e+00 -1.44431969e+00]\n [-3.20379597e-01 -2.59749957e-01]\n [-1.24260293e+00 -1.25513984e+00]\n [-7.60241145e-01 -7.68825502e-01]\n [-1.10633149e+00 -1.11101153e+00]\n [-3.59836899e-01 -3.89258933e-01]\n [ 1.24104691e+00  1.20862666e+00]\n [-2.55757139e-01 -2.23495124e-01]\n [-4.15489913e-01 -4.03976811e-01]\n [-1.36735644e+00 -1.38966860e+00]\n [-8.26749589e-01 -8.25565384e-01]\n [-1.16368740e-01 -9.48410153e-02]\n [ 9.51744012e-01  9.53137825e-01]\n [-1.74206744e+00 -1.79336688e+00]\n [-1.33547165e+00 -1.33741238e+00]\n [-2.71529112e-01 -2.66952710e-01]\n [-1.15294629e+00 -1.16257894e+00]\n [ 1.06533944e+00  1.05160427e+00]\n [-1.23749446e+00 -1.26055006e+00]\n [ 8.55188205e-01  8.45415821e-01]\n [ 1.15398180e+00  1.15416273e+00]\n [-1.36992687e+00 -1.38050165e+00]\n [-1.65762952e-02 -1.61905151e-03]]\n"
     ]
    }
   ],
   "source": [
    "loaded_model = joblib.load(filename)\n",
    "#result = loaded_model.score(input_test, output_test)\n",
    "result = loaded_model.predict(input_test)\n",
    "print(result)"
   ]
  },
  {
   "cell_type": "code",
   "execution_count": null,
   "metadata": {},
   "outputs": [],
   "source": []
  }
 ],
 "metadata": {
  "kernelspec": {
   "name": "python3",
   "display_name": "Python 3.7.0 64-bit",
   "metadata": {
    "interpreter": {
     "hash": "dddbc276755de026ef59667a60cae8244bc070c6d03129960631c9bd95dbf04d"
    }
   }
  }
 },
 "nbformat": 4,
 "nbformat_minor": 4
}