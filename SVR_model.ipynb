{
 "cells": [
  {
   "cell_type": "code",
   "execution_count": 1,
   "metadata": {},
   "outputs": [],
   "source": [
    "import pandas as pd\n",
    "import numpy as np "
   ]
  },
  {
   "cell_type": "code",
   "execution_count": 2,
   "metadata": {
    "tags": []
   },
   "outputs": [
    {
     "output_type": "stream",
     "name": "stdout",
     "text": [
      "                  open_24  close_24\ndate                               \n05/06/2015 02:00  11319.3   11321.2\n05/06/2015 03:00  11321.2   11316.1\n05/06/2015 04:00  11316.2   11310.5\n05/06/2015 05:00  11310.4   11339.1\n05/06/2015 06:00  11339.0   11296.0\n                     open     high      low    close    MOM_3    MOM_4  \\\ndate                                                                     \n05/06/2015 02:00  1.12100  1.12148  1.12081  1.12121  0.00048  0.00094   \n05/06/2015 03:00  1.12121  1.12142  1.12064  1.12104  0.00009  0.00031   \n05/06/2015 04:00  1.12104  1.12243  1.12102  1.12180  0.00080  0.00085   \n05/06/2015 05:00  1.12179  1.12243  1.12111  1.12200  0.00079  0.00100   \n05/06/2015 06:00  1.12202  1.12495  1.12181  1.12471  0.00367  0.00350   \n\n                    MOM_5    MOM_8    MOM_9   MOM_10  ...  bb_bbl_15  \\\ndate                                                  ...              \n05/06/2015 02:00 -0.00114 -0.00329 -0.00288 -0.00755  ...   1.118060   \n05/06/2015 03:00  0.00077 -0.00280 -0.00346 -0.00305  ...   1.117980   \n05/06/2015 04:00  0.00107 -0.00195 -0.00204 -0.00270  ...   1.117898   \n05/06/2015 05:00  0.00105 -0.00035 -0.00175 -0.00184  ...   1.118145   \n05/06/2015 06:00  0.00371  0.00444  0.00236  0.00096  ...   1.118399   \n\n                   HA_open  HA_high   HA_low  HA_close      RSI_6      RSI_8  \\\ndate                                                                           \n05/06/2015 02:00  1.120890  1.12148  1.12081  1.121125  31.458411  33.891967   \n05/06/2015 03:00  1.121007  1.12142  1.12064  1.121077  30.284759  33.124050   \n05/06/2015 04:00  1.121042  1.12243  1.12102  1.121573  41.911069  40.062647   \n05/06/2015 05:00  1.121307  1.12243  1.12111  1.121833  44.817202  41.876337   \n05/06/2015 06:00  1.121570  1.12495  1.12157  1.123373  69.570640  60.422238   \n\n                     RSI_10     RSI_12   Slope_6  \ndate                                              \n05/06/2015 02:00  36.651231  39.191002 -0.000094  \n05/06/2015 03:00  36.062684  38.704874  0.000153  \n05/06/2015 04:00  40.785926  42.201385  0.000167  \n05/06/2015 05:00  42.037924  43.132657  0.000214  \n05/06/2015 06:00  56.033662  54.071460  0.000619  \n\n[5 rows x 53 columns]\n"
     ]
    }
   ],
   "source": [
    "file = 'dataset/EURUSD_features.csv'\n",
    "data = pd.read_csv(file)\n",
    "data.set_index('date', inplace=True, drop=True)\n",
    "\n",
    "################################################\n",
    "'''\n",
    "    - 4 years data\n",
    "    - 4 y * 356 d * 24 hr = 34,176\n",
    "\n",
    "'''\n",
    "amounts = 34176\n",
    "#amounts = 200\n",
    "data = data.tail(amounts+24)\n",
    "data = pd.DataFrame(data=data, dtype=np.float64)\n",
    "##############################################\n",
    "\n",
    "features = data.copy(deep=False)\n",
    "features.drop(features.tail(24).index, inplace=True)\n",
    "features = features.drop(['open_24', 'close_24'], axis=1)\n",
    "\n",
    "labels = data[['open_24', 'close_24']].copy(deep=False)\n",
    "labels = labels.iloc[24:, :]\n",
    "################################################\n",
    "'''\n",
    "    - scale output with 1 pip\n",
    "'''\n",
    "labels = labels*10000\n",
    "################################################\n",
    "\n",
    "\n",
    "labels.reset_index(drop=True, inplace=True)\n",
    "labels.index = features.index\n",
    "print(labels.head())\n",
    "print(features.head())"
   ]
  },
  {
   "cell_type": "code",
   "execution_count": 3,
   "metadata": {},
   "outputs": [],
   "source": [
    "from sklearn.preprocessing import StandardScaler\n",
    "import matplotlib.pyplot as plt\n",
    "from sklearn.datasets import make_regression\n",
    "from sklearn.svm import LinearSVR\n",
    "from sklearn.svm import SVR\n",
    "from sklearn.multioutput import MultiOutputRegressor\n",
    "from sklearn.model_selection import KFold\n",
    "from sklearn.preprocessing import MinMaxScaler\n",
    "\n",
    "from numpy import mean\n",
    "from numpy import std\n",
    "from numpy import absolute\n",
    "from sklearn.metrics import r2_score,mean_squared_error\n",
    "from sklearn.model_selection import train_test_split\n",
    "from sklearn.metrics import mean_absolute_error"
   ]
  },
  {
   "cell_type": "code",
   "execution_count": 4,
   "metadata": {},
   "outputs": [
    {
     "output_type": "stream",
     "name": "stdout",
     "text": [
      "train shape : 1353 days || test shape : 71 days\n"
     ]
    }
   ],
   "source": [
    "sc_X = StandardScaler()\n",
    "sc_y = StandardScaler()\n",
    "x = sc_X.fit_transform(features.values)\n",
    "y = sc_y.fit_transform(labels.values)\n",
    "\n",
    "input_train,input_test,output_train,output_test = train_test_split(x,y,test_size=0.05)\n",
    "print(\"train shape : {:.0f}\".format(input_train.shape[0]/24),\"days || test shape : {:.0f}\".format(input_test.shape[0]/24),\"days\")"
   ]
  },
  {
   "cell_type": "code",
   "execution_count": 68,
   "metadata": {
    "tags": []
   },
   "outputs": [
    {
     "output_type": "stream",
     "name": "stdout",
     "text": [
      "K-folds at :  1\n"
     ]
    }
   ],
   "source": [
    "\n",
    "import joblib # save model\n",
    "filename = 'model/EURUSD_SVR.joblib'\n",
    "\n",
    "model = SVR(kernel='rbf',gamma='auto',C=25,epsilon=0.1)\n",
    "\n",
    "best_svr = MultiOutputRegressor(model)\n",
    "cv = KFold(n_splits=10,shuffle=False)\n",
    "scores = []\n",
    "i = 1\n",
    "for train_index, test_index in cv.split(input_train):\n",
    "        print(\"K-folds at : \",i)\n",
    "        X_train, X_test, y_train, y_test = input_train[train_index], input_train[test_index], output_train[train_index], output_train[test_index]\n",
    "        best_svr.fit(X_train, y_train)\n",
    "        \n",
    "        '''\n",
    "                - Cross validate \n",
    "        '''\n",
    "        scores.append(best_svr.score(X_test, y_test))\n",
    "        print(\"scores : \",best_svr.score(X_test, y_test))\n",
    "\n",
    "        '''\n",
    "                - MAE\n",
    "        '''\n",
    "        yhat = best_svr.predict(X_test)\n",
    "        print(\"MAE : \",mean_absolute_error(y_test, yhat, multioutput='raw_values'))\n",
    "        joblib.dump(best_svr, filename)\n",
    "        i+=1\n",
    "\n"
   ]
  },
  {
   "cell_type": "code",
   "execution_count": 62,
   "metadata": {},
   "outputs": [
    {
     "output_type": "stream",
     "name": "stdout",
     "text": [
      "Crossvalidation score : 0.9472659736667867\nAbs_err =  0.965997070136337\nmse =  65.73965558603018\nsqrt(mse) =  8.107999481131593\nPips err =  655873.1633099525 \n\n"
     ]
    }
   ],
   "source": [
    "yhat = best_svr.predict(input_test)\n",
    "yhat = sc_y.inverse_transform(yhat)\n",
    "y_test = sc_y.inverse_transform(output_test)\n",
    "mse = mean_squared_error(y_test,yhat)\n",
    "sum_err = []\n",
    "\n",
    "for i in range(len(y_test)):\n",
    "    err = abs(y_test[i]-yhat[i])*10e4\n",
    "    sum_err.append(err)\n",
    "    #print(i,\"-> Pre \",yhat[i],\" vs Acc\",y_test[i],\" err = \",err)\n",
    "print(\"Crossvalidation score :\",np.mean(scores))\n",
    "print(\"Abs_err = \",r2_score(yhat,y_test))\n",
    "print(\"mse = \",mse)\n",
    "print(\"sqrt(mse) = \",np.sqrt(mse))\n",
    "print(\"Pips err = \",mean(sum_err),\"\\n\")"
   ]
  },
  {
   "cell_type": "code",
   "execution_count": 63,
   "metadata": {},
   "outputs": [
    {
     "output_type": "stream",
     "name": "stdout",
     "text": [
      "[[-1.34222863 -1.22887601]\n",
      " [ 0.21183523  0.12484683]\n",
      " [ 1.63719022  1.64864249]\n",
      " [-0.02908245  0.12576594]\n",
      " [-1.47561627 -1.07919824]\n",
      " [ 0.89113658  1.11919729]\n",
      " [ 0.7065338   0.75264423]\n",
      " [ 0.06408291 -0.01350575]\n",
      " [-1.41872562 -1.81003548]\n",
      " [ 0.21570724 -0.36686984]]\n"
     ]
    }
   ],
   "source": [
    "loaded_model = joblib.load(filename)\n",
    "#result = loaded_model.score(input_test, output_test)\n",
    "result = loaded_model.predict(input_test)\n",
    "print(result)"
   ]
  },
  {
   "cell_type": "code",
   "execution_count": null,
   "metadata": {},
   "outputs": [],
   "source": []
  }
 ],
 "metadata": {
  "kernelspec": {
   "name": "python3",
   "display_name": "Python 3.7.0 64-bit",
   "metadata": {
    "interpreter": {
     "hash": "dddbc276755de026ef59667a60cae8244bc070c6d03129960631c9bd95dbf04d"
    }
   }
  }
 },
 "nbformat": 4,
 "nbformat_minor": 4
}